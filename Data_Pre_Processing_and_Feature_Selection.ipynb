{
 "cells": [
  {
   "cell_type": "markdown",
   "id": "c5d856bb",
   "metadata": {},
   "source": [
    "# Pre-Processing and Feature Selection\n",
    "\n",
    "In this notebook, feature selection will be performed on the data in order to identify identify the variables that are most closely associated with the survival of transplant patients."
   ]
  },
  {
   "cell_type": "code",
   "execution_count": 1,
   "id": "79e0354a",
   "metadata": {},
   "outputs": [],
   "source": [
    "import numpy as np\n",
    "import pandas as pd"
   ]
  },
  {
   "cell_type": "code",
   "execution_count": 2,
   "id": "877a78d4",
   "metadata": {},
   "outputs": [],
   "source": [
    "# load data\n",
    "df = pd.read_csv('data/bone_marrow.csv')"
   ]
  },
  {
   "cell_type": "markdown",
   "id": "fe2204f2",
   "metadata": {},
   "source": [
    "## 1. Pre-Processing'\n",
    "\n",
    "Before getting to feature selection, let us first pre-process the data."
   ]
  },
  {
   "cell_type": "markdown",
   "id": "a746e00f",
   "metadata": {},
   "source": [
    "### A. Missing Values"
   ]
  },
  {
   "cell_type": "code",
   "execution_count": 3,
   "id": "cb3270a2",
   "metadata": {},
   "outputs": [
    {
     "data": {
      "text/plain": [
       "donor_age                      0\n",
       "donor_age_below_35             0\n",
       "donor_ABO                      0\n",
       "donor_CMV                      2\n",
       "recipient_age                  0\n",
       "recipient_age_below_10         0\n",
       "recipient_age_int              0\n",
       "recipient_gender               0\n",
       "recipient_body_mass            2\n",
       "recipient_ABO                  1\n",
       "recipient_rh                   2\n",
       "recipient_CMV                 14\n",
       "disease                        0\n",
       "disease_group                  0\n",
       "gender_match                   0\n",
       "ABO_match                      1\n",
       "CMV_status                    16\n",
       "HLA_match                      0\n",
       "HLA_mismatch                   0\n",
       "antigen                        1\n",
       "allel                          1\n",
       "HLA_group_1                    0\n",
       "risk_group                     0\n",
       "stem_cell_source               0\n",
       "tx_post_relapse                0\n",
       "CD34_x1e6_per_kg               0\n",
       "CD3_x1e8_per_kg                5\n",
       "CD3_to_CD34_ratio              5\n",
       "ANC_recovery                   5\n",
       "PLT_recovery                  17\n",
       "acute_GvHD_II_III_IV           0\n",
       "acute_GvHD_III_IV              0\n",
       "time_to_acute_GvHD_III_IV    145\n",
       "extensive_chronic_GvHD        31\n",
       "relapse                        0\n",
       "survival_time                  0\n",
       "survival_status                0\n",
       "dtype: int64"
      ]
     },
     "execution_count": 3,
     "metadata": {},
     "output_type": "execute_result"
    }
   ],
   "source": [
    "# how many columns have missing data, and by how much?\n",
    "df.isna().sum()"
   ]
  },
  {
   "cell_type": "markdown",
   "id": "5aeed7e3",
   "metadata": {},
   "source": [
    "From above, we can see that 15 coolumns have missing data.\n",
    "\n",
    "In particular, the majority of the time_to_acute_GvHD_III_IV column is missing. Since this variable is therefore not likely to be useful, let's drop it."
   ]
  },
  {
   "cell_type": "code",
   "execution_count": 4,
   "id": "88fa75cf",
   "metadata": {},
   "outputs": [],
   "source": [
    "# drop time_to_acute_GvHD_III_IV\n",
    "df.drop('time_to_acute_GvHD_III_IV', axis=1, inplace=True)"
   ]
  },
  {
   "cell_type": "markdown",
   "id": "11fb7f5c",
   "metadata": {},
   "source": [
    "However, there is still a substantial amount of missing data (i.e. in the extensive_chronic_GvHD columm). We would be losing a lot of data if all of these variables were dropped.\n",
    "\n",
    "Let's instead impute the missing data by using mean (for continuous variables) or mode (for categorical variables). "
   ]
  },
  {
   "cell_type": "code",
   "execution_count": 5,
   "id": "d431ccb2",
   "metadata": {},
   "outputs": [],
   "source": [
    "from sklearn.impute import SimpleImputer"
   ]
  },
  {
   "cell_type": "code",
   "execution_count": 6,
   "id": "06b8a7f1",
   "metadata": {},
   "outputs": [],
   "source": [
    "# imputing missing values for categorical variables\n",
    "\n",
    "df.donor_CMV = SimpleImputer(missing_values=np.NaN, strategy='most_frequent').fit_transform(df[['donor_CMV']])\n",
    "df.recipient_ABO = SimpleImputer(missing_values=np.NaN, strategy='most_frequent').fit_transform(df[['recipient_ABO']])\n",
    "df.recipient_rh = SimpleImputer(missing_values=np.NaN, strategy='most_frequent').fit_transform(df[['recipient_rh']])\n",
    "df.recipient_CMV = SimpleImputer(missing_values=np.NaN, strategy='most_frequent').fit_transform(df[['recipient_CMV']])\n",
    "df.ABO_match = SimpleImputer(missing_values=np.NaN, strategy='most_frequent').fit_transform(df[['ABO_match']])\n",
    "df.CMV_status = SimpleImputer(missing_values=np.NaN, strategy='most_frequent').fit_transform(df[['CMV_status']])\n",
    "df.antigen = SimpleImputer(missing_values=np.NaN, strategy='most_frequent').fit_transform(df[['antigen']])\n",
    "df.allel = SimpleImputer(missing_values=np.NaN, strategy='most_frequent').fit_transform(df[['allel']])\n",
    "df.extensive_chronic_GvHD = SimpleImputer(missing_values=np.NaN, strategy='most_frequent').fit_transform(df[['extensive_chronic_GvHD']])"
   ]
  },
  {
   "cell_type": "code",
   "execution_count": 7,
   "id": "3b16070e",
   "metadata": {},
   "outputs": [],
   "source": [
    "# imputing missing values for continuous variables\n",
    "\n",
    "df.recipient_body_mass = SimpleImputer(missing_values=np.NaN, strategy='mean').fit_transform(df[['recipient_body_mass']])\n",
    "df.CD3_x1e8_per_kg = SimpleImputer(missing_values=np.NaN, strategy='mean').fit_transform(df[['CD3_x1e8_per_kg']])\n",
    "df.CD3_to_CD34_ratio = SimpleImputer(missing_values=np.NaN, strategy='mean').fit_transform(df[['CD3_to_CD34_ratio']])\n",
    "df.ANC_recovery = SimpleImputer(missing_values=np.NaN, strategy='mean').fit_transform(df[['ANC_recovery']])\n",
    "df.PLT_recovery = SimpleImputer(missing_values=np.NaN, strategy='mean').fit_transform(df[['PLT_recovery']])"
   ]
  },
  {
   "cell_type": "code",
   "execution_count": 8,
   "id": "8eef7ae6",
   "metadata": {},
   "outputs": [],
   "source": [
    "# make sure there are no more missing data\n",
    "assert df.isna().sum().sum() == 0"
   ]
  },
  {
   "cell_type": "markdown",
   "id": "000a4e11",
   "metadata": {},
   "source": [
    "### B. Standardize Variables"
   ]
  },
  {
   "cell_type": "code",
   "execution_count": 9,
   "id": "1dd9133d",
   "metadata": {},
   "outputs": [],
   "source": [
    "from sklearn.preprocessing import StandardScaler\n",
    "\n",
    "# need to rescale (standardize) the following variables\n",
    "cols_to_scale = ['donor_age', 'recipient_age', 'recipient_body_mass',\n",
    "                 'CMV_status', 'antigen', 'allel', 'CD34_x1e6_per_kg',\n",
    "                 'CD3_x1e8_per_kg', 'ANC_recovery', 'PLT_recovery',\n",
    "                 'survival_time']\n",
    "\n",
    "ss = StandardScaler()\n",
    "df[cols_to_scale] = ss.fit_transform(df[cols_to_scale])"
   ]
  },
  {
   "cell_type": "markdown",
   "id": "deb36ea5",
   "metadata": {},
   "source": [
    "### C. Encode Categorical Variables"
   ]
  },
  {
   "cell_type": "code",
   "execution_count": 10,
   "id": "a5c7356a",
   "metadata": {},
   "outputs": [],
   "source": [
    "df = pd.get_dummies(df, columns=list(df.columns[df.dtypes=='object']),\n",
    "                       drop_first=False)"
   ]
  },
  {
   "cell_type": "code",
   "execution_count": 11,
   "id": "c1e44335",
   "metadata": {},
   "outputs": [
    {
     "data": {
      "text/html": [
       "<div>\n",
       "<style scoped>\n",
       "    .dataframe tbody tr th:only-of-type {\n",
       "        vertical-align: middle;\n",
       "    }\n",
       "\n",
       "    .dataframe tbody tr th {\n",
       "        vertical-align: top;\n",
       "    }\n",
       "\n",
       "    .dataframe thead th {\n",
       "        text-align: right;\n",
       "    }\n",
       "</style>\n",
       "<table border=\"1\" class=\"dataframe\">\n",
       "  <thead>\n",
       "    <tr style=\"text-align: right;\">\n",
       "      <th></th>\n",
       "      <th>donor_age</th>\n",
       "      <th>recipient_age</th>\n",
       "      <th>recipient_body_mass</th>\n",
       "      <th>CMV_status</th>\n",
       "      <th>antigen</th>\n",
       "      <th>allel</th>\n",
       "      <th>CD34_x1e6_per_kg</th>\n",
       "      <th>CD3_x1e8_per_kg</th>\n",
       "      <th>CD3_to_CD34_ratio</th>\n",
       "      <th>ANC_recovery</th>\n",
       "      <th>...</th>\n",
       "      <th>tx_post_relapse_no</th>\n",
       "      <th>tx_post_relapse_yes</th>\n",
       "      <th>acute_GvHD_II_III_IV_no</th>\n",
       "      <th>acute_GvHD_II_III_IV_yes</th>\n",
       "      <th>acute_GvHD_III_IV_no</th>\n",
       "      <th>acute_GvHD_III_IV_yes</th>\n",
       "      <th>extensive_chronic_GvHD_no</th>\n",
       "      <th>extensive_chronic_GvHD_yes</th>\n",
       "      <th>relapse_no</th>\n",
       "      <th>relapse_yes</th>\n",
       "    </tr>\n",
       "  </thead>\n",
       "  <tbody>\n",
       "    <tr>\n",
       "      <th>0</th>\n",
       "      <td>-1.289981</td>\n",
       "      <td>-0.062658</td>\n",
       "      <td>-0.041097</td>\n",
       "      <td>1.335283</td>\n",
       "      <td>-0.922760</td>\n",
       "      <td>-0.843864</td>\n",
       "      <td>-0.474500</td>\n",
       "      <td>0.167062</td>\n",
       "      <td>1.338760</td>\n",
       "      <td>1.246508</td>\n",
       "      <td>...</td>\n",
       "      <td>1</td>\n",
       "      <td>0</td>\n",
       "      <td>0</td>\n",
       "      <td>1</td>\n",
       "      <td>0</td>\n",
       "      <td>1</td>\n",
       "      <td>1</td>\n",
       "      <td>0</td>\n",
       "      <td>1</td>\n",
       "      <td>0</td>\n",
       "    </tr>\n",
       "    <tr>\n",
       "      <th>1</th>\n",
       "      <td>-1.227878</td>\n",
       "      <td>-1.120972</td>\n",
       "      <td>-0.779836</td>\n",
       "      <td>-1.428901</td>\n",
       "      <td>-0.922760</td>\n",
       "      <td>-0.843864</td>\n",
       "      <td>-0.747563</td>\n",
       "      <td>-1.141966</td>\n",
       "      <td>11.078295</td>\n",
       "      <td>0.233720</td>\n",
       "      <td>...</td>\n",
       "      <td>1</td>\n",
       "      <td>0</td>\n",
       "      <td>0</td>\n",
       "      <td>1</td>\n",
       "      <td>1</td>\n",
       "      <td>0</td>\n",
       "      <td>1</td>\n",
       "      <td>0</td>\n",
       "      <td>0</td>\n",
       "      <td>1</td>\n",
       "    </tr>\n",
       "    <tr>\n",
       "      <th>2</th>\n",
       "      <td>-0.857918</td>\n",
       "      <td>-0.629612</td>\n",
       "      <td>-0.636192</td>\n",
       "      <td>0.413889</td>\n",
       "      <td>-0.922760</td>\n",
       "      <td>-0.843864</td>\n",
       "      <td>-0.399661</td>\n",
       "      <td>-1.139332</td>\n",
       "      <td>19.013230</td>\n",
       "      <td>2.596891</td>\n",
       "      <td>...</td>\n",
       "      <td>1</td>\n",
       "      <td>0</td>\n",
       "      <td>0</td>\n",
       "      <td>1</td>\n",
       "      <td>1</td>\n",
       "      <td>0</td>\n",
       "      <td>1</td>\n",
       "      <td>0</td>\n",
       "      <td>0</td>\n",
       "      <td>1</td>\n",
       "    </tr>\n",
       "    <tr>\n",
       "      <th>3</th>\n",
       "      <td>0.753104</td>\n",
       "      <td>1.543712</td>\n",
       "      <td>0.728424</td>\n",
       "      <td>-0.507506</td>\n",
       "      <td>-0.922760</td>\n",
       "      <td>-0.843864</td>\n",
       "      <td>-0.772846</td>\n",
       "      <td>-1.213080</td>\n",
       "      <td>29.481647</td>\n",
       "      <td>2.596891</td>\n",
       "      <td>...</td>\n",
       "      <td>1</td>\n",
       "      <td>0</td>\n",
       "      <td>0</td>\n",
       "      <td>1</td>\n",
       "      <td>0</td>\n",
       "      <td>1</td>\n",
       "      <td>1</td>\n",
       "      <td>0</td>\n",
       "      <td>1</td>\n",
       "      <td>0</td>\n",
       "    </tr>\n",
       "    <tr>\n",
       "      <th>4</th>\n",
       "      <td>-0.013717</td>\n",
       "      <td>-1.631231</td>\n",
       "      <td>-1.374932</td>\n",
       "      <td>-1.428901</td>\n",
       "      <td>1.083706</td>\n",
       "      <td>0.283297</td>\n",
       "      <td>4.041147</td>\n",
       "      <td>2.187231</td>\n",
       "      <td>3.972255</td>\n",
       "      <td>-0.441471</td>\n",
       "      <td>...</td>\n",
       "      <td>1</td>\n",
       "      <td>0</td>\n",
       "      <td>1</td>\n",
       "      <td>0</td>\n",
       "      <td>1</td>\n",
       "      <td>0</td>\n",
       "      <td>1</td>\n",
       "      <td>0</td>\n",
       "      <td>1</td>\n",
       "      <td>0</td>\n",
       "    </tr>\n",
       "  </tbody>\n",
       "</table>\n",
       "<p>5 rows × 74 columns</p>\n",
       "</div>"
      ],
      "text/plain": [
       "   donor_age  recipient_age  recipient_body_mass  CMV_status   antigen  \\\n",
       "0  -1.289981      -0.062658            -0.041097    1.335283 -0.922760   \n",
       "1  -1.227878      -1.120972            -0.779836   -1.428901 -0.922760   \n",
       "2  -0.857918      -0.629612            -0.636192    0.413889 -0.922760   \n",
       "3   0.753104       1.543712             0.728424   -0.507506 -0.922760   \n",
       "4  -0.013717      -1.631231            -1.374932   -1.428901  1.083706   \n",
       "\n",
       "      allel  CD34_x1e6_per_kg  CD3_x1e8_per_kg  CD3_to_CD34_ratio  \\\n",
       "0 -0.843864         -0.474500         0.167062           1.338760   \n",
       "1 -0.843864         -0.747563        -1.141966          11.078295   \n",
       "2 -0.843864         -0.399661        -1.139332          19.013230   \n",
       "3 -0.843864         -0.772846        -1.213080          29.481647   \n",
       "4  0.283297          4.041147         2.187231           3.972255   \n",
       "\n",
       "   ANC_recovery  ...  tx_post_relapse_no  tx_post_relapse_yes  \\\n",
       "0      1.246508  ...                   1                    0   \n",
       "1      0.233720  ...                   1                    0   \n",
       "2      2.596891  ...                   1                    0   \n",
       "3      2.596891  ...                   1                    0   \n",
       "4     -0.441471  ...                   1                    0   \n",
       "\n",
       "   acute_GvHD_II_III_IV_no  acute_GvHD_II_III_IV_yes  acute_GvHD_III_IV_no  \\\n",
       "0                        0                         1                     0   \n",
       "1                        0                         1                     1   \n",
       "2                        0                         1                     1   \n",
       "3                        0                         1                     0   \n",
       "4                        1                         0                     1   \n",
       "\n",
       "   acute_GvHD_III_IV_yes  extensive_chronic_GvHD_no  \\\n",
       "0                      1                          1   \n",
       "1                      0                          1   \n",
       "2                      0                          1   \n",
       "3                      1                          1   \n",
       "4                      0                          1   \n",
       "\n",
       "   extensive_chronic_GvHD_yes  relapse_no  relapse_yes  \n",
       "0                           0           1            0  \n",
       "1                           0           0            1  \n",
       "2                           0           0            1  \n",
       "3                           0           1            0  \n",
       "4                           0           1            0  \n",
       "\n",
       "[5 rows x 74 columns]"
      ]
     },
     "execution_count": 11,
     "metadata": {},
     "output_type": "execute_result"
    }
   ],
   "source": [
    "df.head()"
   ]
  },
  {
   "cell_type": "markdown",
   "id": "9d298760",
   "metadata": {},
   "source": [
    "### D. Check Target Variable is Balanced"
   ]
  },
  {
   "cell_type": "code",
   "execution_count": 12,
   "id": "b60f6104",
   "metadata": {},
   "outputs": [
    {
     "data": {
      "text/plain": [
       "0    0.545455\n",
       "1    0.454545\n",
       "Name: survival_status, dtype: float64"
      ]
     },
     "execution_count": 12,
     "metadata": {},
     "output_type": "execute_result"
    }
   ],
   "source": [
    "df.survival_status.value_counts(normalize=True)"
   ]
  },
  {
   "cell_type": "markdown",
   "id": "cda3e64a",
   "metadata": {},
   "source": [
    "It is balanced!"
   ]
  },
  {
   "cell_type": "code",
   "execution_count": 13,
   "id": "ed7809c2",
   "metadata": {},
   "outputs": [],
   "source": [
    "# save new df\n",
    "df.to_csv('data/bone_marrow_processed.csv', index=False)"
   ]
  },
  {
   "cell_type": "markdown",
   "id": "7847f567",
   "metadata": {},
   "source": [
    "## 2. Feature Selection\n",
    "\n",
    "Now let's move onto feature selection."
   ]
  },
  {
   "cell_type": "code",
   "execution_count": 14,
   "id": "1ecfa92b",
   "metadata": {},
   "outputs": [],
   "source": [
    "# split columns into features (X) & result (y)\n",
    "X = df.drop('survival_status', axis = 1)\n",
    "y = df['survival_status']"
   ]
  },
  {
   "cell_type": "code",
   "execution_count": 15,
   "id": "762f797a",
   "metadata": {},
   "outputs": [],
   "source": [
    "from sklearn.model_selection import train_test_split\n",
    "\n",
    "X_train,X_test,y_train,y_test = train_test_split(X, y, train_size=.8)"
   ]
  },
  {
   "cell_type": "markdown",
   "id": "a7da9dba",
   "metadata": {},
   "source": [
    "### A. LASSO"
   ]
  },
  {
   "cell_type": "code",
   "execution_count": 16,
   "id": "f61c294f",
   "metadata": {},
   "outputs": [],
   "source": [
    "from sklearn.linear_model import LogisticRegression"
   ]
  },
  {
   "cell_type": "code",
   "execution_count": 17,
   "id": "bb159aa2",
   "metadata": {},
   "outputs": [],
   "source": [
    "logr = LogisticRegression(C=0.3, penalty=\"l1\", solver=\"liblinear\")\n",
    "logr.fit(X_train, y_train);"
   ]
  },
  {
   "cell_type": "code",
   "execution_count": 18,
   "id": "31057bbb",
   "metadata": {},
   "outputs": [
    {
     "data": {
      "text/plain": [
       "Index(['recipient_body_mass', 'CD3_to_CD34_ratio', 'survival_time',\n",
       "       'recipient_CMV_absent', 'ABO_match_mismatched', 'risk_group_low',\n",
       "       'relapse_no'],\n",
       "      dtype='object')"
      ]
     },
     "execution_count": 18,
     "metadata": {},
     "output_type": "execute_result"
    }
   ],
   "source": [
    "# which columns were kept?\n",
    "X_train.columns[logr.coef_[0] != 0]"
   ]
  },
  {
   "cell_type": "markdown",
   "id": "7718b295",
   "metadata": {},
   "source": [
    "### B. Tree Based Model Feature Importance"
   ]
  },
  {
   "cell_type": "code",
   "execution_count": 19,
   "id": "dd3cd04b",
   "metadata": {},
   "outputs": [],
   "source": [
    "from sklearn.ensemble import RandomForestClassifier\n",
    "\n",
    "rf = RandomForestClassifier().fit(X_train,y_train)"
   ]
  },
  {
   "cell_type": "code",
   "execution_count": 20,
   "id": "3934eaf5",
   "metadata": {},
   "outputs": [
    {
     "data": {
      "text/plain": [
       "survival_time                 0.382\n",
       "CD3_to_CD34_ratio             0.042\n",
       "recipient_age                 0.040\n",
       "PLT_recovery                  0.039\n",
       "relapse_no                    0.038\n",
       "donor_age                     0.034\n",
       "relapse_yes                   0.034\n",
       "CD34_x1e6_per_kg              0.032\n",
       "CD3_x1e8_per_kg               0.030\n",
       "recipient_body_mass           0.028\n",
       "ANC_recovery                  0.023\n",
       "CMV_status                    0.010\n",
       "disease_lymphoma              0.010\n",
       "acute_GvHD_III_IV_no          0.010\n",
       "acute_GvHD_III_IV_yes         0.008\n",
       "extensive_chronic_GvHD_yes    0.008\n",
       "risk_group_high               0.007\n",
       "ABO_match_matched             0.007\n",
       "donor_ABO_A                   0.007\n",
       "acute_GvHD_II_III_IV_no       0.006\n",
       "dtype: float64"
      ]
     },
     "execution_count": 20,
     "metadata": {},
     "output_type": "execute_result"
    }
   ],
   "source": [
    "feature_importances = pd.Series(rf.feature_importances_,index=X_train.columns)\n",
    "feature_importances.sort_values(ascending=False).round(3).head(20)"
   ]
  },
  {
   "cell_type": "code",
   "execution_count": 21,
   "id": "aeb7d238",
   "metadata": {},
   "outputs": [],
   "source": [
    "import matplotlib.pyplot as plt"
   ]
  },
  {
   "cell_type": "code",
   "execution_count": 22,
   "id": "683d7a53",
   "metadata": {},
   "outputs": [
    {
     "data": {
      "image/png": "[encoded data removed]",
      "text/plain": [
       "<Figure size 500x500 with 1 Axes>"
      ]
     },
     "metadata": {},
     "output_type": "display_data"
    }
   ],
   "source": [
    "fig,ax = plt.subplots(1,1,figsize=(5,5))\n",
    "feature_importances.sort_values(ascending=False).head(10).plot.barh(ax=ax);\n",
    "ax.set_yticklabels(ax.get_yticklabels(),fontsize=10);"
   ]
  },
  {
   "cell_type": "markdown",
   "id": "0454aa15",
   "metadata": {},
   "source": [
    "Survival time seems to be the strongest feature by a very large margin, whilst the remaining selected variables all seem to be quite similar. Compared to the features selected by LASSO above, doses of CD34+ and CD3+ cells appear in both feature selections, indicating importance. Whether the patient relapsed also appears in both feature selections, although whether the patient developed extensive chronic GvHD has been excluded by this model.\n",
    "\n",
    "There also seem to be features about the donors or recipients that contribute towards survival - such as the recipient's body mass, recipient age, and donor age."
   ]
  },
  {
   "cell_type": "markdown",
   "id": "e5b6316a",
   "metadata": {},
   "source": [
    "### C. SelectKBest"
   ]
  },
  {
   "cell_type": "code",
   "execution_count": 23,
   "id": "f2d4240b",
   "metadata": {},
   "outputs": [
    {
     "data": {
      "text/plain": [
       "['recipient_age',\n",
       " 'recipient_body_mass',\n",
       " 'CD3_x1e8_per_kg',\n",
       " 'PLT_recovery',\n",
       " 'survival_time',\n",
       " 'donor_ABO_AB',\n",
       " 'recipient_rh_minus',\n",
       " 'recipient_rh_plus',\n",
       " 'disease_lymphoma',\n",
       " 'risk_group_high',\n",
       " 'risk_group_low',\n",
       " 'acute_GvHD_III_IV_no',\n",
       " 'acute_GvHD_III_IV_yes',\n",
       " 'relapse_no',\n",
       " 'relapse_yes']"
      ]
     },
     "execution_count": 23,
     "metadata": {},
     "output_type": "execute_result"
    }
   ],
   "source": [
    "from sklearn.feature_selection import SelectKBest, f_classif\n",
    "\n",
    "# select best features\n",
    "kbest = SelectKBest(score_func=f_classif, k=15).fit(X_train, y_train)\n",
    "list(X.columns[kbest.get_support()])"
   ]
  },
  {
   "cell_type": "markdown",
   "id": "936f679e",
   "metadata": {},
   "source": [
    "The features selected here again highlight survival time, relapse, CD34+ cell dose, recipient age and body mass. However, the model also heavily highlights the development of GvHD as an important feature - selecting features concerning acute GvHD as well as extensive chronic GvHD."
   ]
  },
  {
   "cell_type": "markdown",
   "id": "692eacf4",
   "metadata": {},
   "source": [
    "#### Reduced Dataset\n",
    "\n",
    "Let's save the features selected by the SelectKBest algorithm as a reduced dataset to use as input for machine learning models."
   ]
  },
  {
   "cell_type": "code",
   "execution_count": 24,
   "id": "616a534d",
   "metadata": {},
   "outputs": [],
   "source": [
    "selected_cols = list(X.columns[kbest.get_support()])"
   ]
  },
  {
   "cell_type": "code",
   "execution_count": 25,
   "id": "6f01281c",
   "metadata": {},
   "outputs": [],
   "source": [
    "df[selected_cols].to_csv('data/reduced_data.csv', index=False)"
   ]
  }
 ],
 "metadata": {
  "kernelspec": {
   "display_name": "Python 3 (ipykernel)",
   "language": "python",
   "name": "python3"
  },
  "language_info": {
   "codemirror_mode": {
    "name": "ipython",
    "version": 3
   },
   "file_extension": ".py",
   "mimetype": "text/x-python",
   "name": "python",
   "nbconvert_exporter": "python",
   "pygments_lexer": "ipython3",
   "version": "3.9.13"
  }
 },
 "nbformat": 4,
 "nbformat_minor": 5
}
