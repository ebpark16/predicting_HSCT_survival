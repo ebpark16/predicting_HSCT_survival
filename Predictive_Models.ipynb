{
 "cells": [
  {
   "cell_type": "markdown",
   "id": "5476e1f7",
   "metadata": {},
   "source": [
    "# Predictive Models"
   ]
  },
  {
   "cell_type": "code",
   "execution_count": 1,
   "id": "837b976b",
   "metadata": {},
   "outputs": [],
   "source": [
    "import numpy as np\n",
    "import pandas as pd"
   ]
  },
  {
   "cell_type": "code",
   "execution_count": 2,
   "id": "85ddff70",
   "metadata": {},
   "outputs": [],
   "source": [
    "# full dataset\n",
    "df = pd.read_csv('data/bone_marrow_processed.csv')\n",
    "\n",
    "# reduced dataset\n",
    "red_df = pd.read_csv('data/reduced_data.csv')"
   ]
  },
  {
   "cell_type": "code",
   "execution_count": 3,
   "id": "cb77f2ec",
   "metadata": {},
   "outputs": [
    {
     "data": {
      "text/html": [
       "<div>\n",
       "<style scoped>\n",
       "    .dataframe tbody tr th:only-of-type {\n",
       "        vertical-align: middle;\n",
       "    }\n",
       "\n",
       "    .dataframe tbody tr th {\n",
       "        vertical-align: top;\n",
       "    }\n",
       "\n",
       "    .dataframe thead th {\n",
       "        text-align: right;\n",
       "    }\n",
       "</style>\n",
       "<table border=\"1\" class=\"dataframe\">\n",
       "  <thead>\n",
       "    <tr style=\"text-align: right;\">\n",
       "      <th></th>\n",
       "      <th>donor_age</th>\n",
       "      <th>recipient_age</th>\n",
       "      <th>recipient_body_mass</th>\n",
       "      <th>CMV_status</th>\n",
       "      <th>antigen</th>\n",
       "      <th>allel</th>\n",
       "      <th>CD34_x1e6_per_kg</th>\n",
       "      <th>CD3_x1e8_per_kg</th>\n",
       "      <th>CD3_to_CD34_ratio</th>\n",
       "      <th>ANC_recovery</th>\n",
       "      <th>...</th>\n",
       "      <th>tx_post_relapse_no</th>\n",
       "      <th>tx_post_relapse_yes</th>\n",
       "      <th>acute_GvHD_II_III_IV_no</th>\n",
       "      <th>acute_GvHD_II_III_IV_yes</th>\n",
       "      <th>acute_GvHD_III_IV_no</th>\n",
       "      <th>acute_GvHD_III_IV_yes</th>\n",
       "      <th>extensive_chronic_GvHD_no</th>\n",
       "      <th>extensive_chronic_GvHD_yes</th>\n",
       "      <th>relapse_no</th>\n",
       "      <th>relapse_yes</th>\n",
       "    </tr>\n",
       "  </thead>\n",
       "  <tbody>\n",
       "    <tr>\n",
       "      <th>0</th>\n",
       "      <td>-1.289981</td>\n",
       "      <td>-0.062658</td>\n",
       "      <td>-0.041097</td>\n",
       "      <td>1.335283</td>\n",
       "      <td>-0.922760</td>\n",
       "      <td>-0.843864</td>\n",
       "      <td>-0.474500</td>\n",
       "      <td>0.167062</td>\n",
       "      <td>1.338760</td>\n",
       "      <td>1.246508</td>\n",
       "      <td>...</td>\n",
       "      <td>1</td>\n",
       "      <td>0</td>\n",
       "      <td>0</td>\n",
       "      <td>1</td>\n",
       "      <td>0</td>\n",
       "      <td>1</td>\n",
       "      <td>1</td>\n",
       "      <td>0</td>\n",
       "      <td>1</td>\n",
       "      <td>0</td>\n",
       "    </tr>\n",
       "    <tr>\n",
       "      <th>1</th>\n",
       "      <td>-1.227878</td>\n",
       "      <td>-1.120972</td>\n",
       "      <td>-0.779836</td>\n",
       "      <td>-1.428901</td>\n",
       "      <td>-0.922760</td>\n",
       "      <td>-0.843864</td>\n",
       "      <td>-0.747563</td>\n",
       "      <td>-1.141966</td>\n",
       "      <td>11.078295</td>\n",
       "      <td>0.233720</td>\n",
       "      <td>...</td>\n",
       "      <td>1</td>\n",
       "      <td>0</td>\n",
       "      <td>0</td>\n",
       "      <td>1</td>\n",
       "      <td>1</td>\n",
       "      <td>0</td>\n",
       "      <td>1</td>\n",
       "      <td>0</td>\n",
       "      <td>0</td>\n",
       "      <td>1</td>\n",
       "    </tr>\n",
       "    <tr>\n",
       "      <th>2</th>\n",
       "      <td>-0.857918</td>\n",
       "      <td>-0.629612</td>\n",
       "      <td>-0.636192</td>\n",
       "      <td>0.413889</td>\n",
       "      <td>-0.922760</td>\n",
       "      <td>-0.843864</td>\n",
       "      <td>-0.399661</td>\n",
       "      <td>-1.139332</td>\n",
       "      <td>19.013230</td>\n",
       "      <td>2.596891</td>\n",
       "      <td>...</td>\n",
       "      <td>1</td>\n",
       "      <td>0</td>\n",
       "      <td>0</td>\n",
       "      <td>1</td>\n",
       "      <td>1</td>\n",
       "      <td>0</td>\n",
       "      <td>1</td>\n",
       "      <td>0</td>\n",
       "      <td>0</td>\n",
       "      <td>1</td>\n",
       "    </tr>\n",
       "    <tr>\n",
       "      <th>3</th>\n",
       "      <td>0.753104</td>\n",
       "      <td>1.543712</td>\n",
       "      <td>0.728424</td>\n",
       "      <td>-0.507506</td>\n",
       "      <td>-0.922760</td>\n",
       "      <td>-0.843864</td>\n",
       "      <td>-0.772846</td>\n",
       "      <td>-1.213080</td>\n",
       "      <td>29.481647</td>\n",
       "      <td>2.596891</td>\n",
       "      <td>...</td>\n",
       "      <td>1</td>\n",
       "      <td>0</td>\n",
       "      <td>0</td>\n",
       "      <td>1</td>\n",
       "      <td>0</td>\n",
       "      <td>1</td>\n",
       "      <td>1</td>\n",
       "      <td>0</td>\n",
       "      <td>1</td>\n",
       "      <td>0</td>\n",
       "    </tr>\n",
       "    <tr>\n",
       "      <th>4</th>\n",
       "      <td>-0.013717</td>\n",
       "      <td>-1.631231</td>\n",
       "      <td>-1.374932</td>\n",
       "      <td>-1.428901</td>\n",
       "      <td>1.083706</td>\n",
       "      <td>0.283297</td>\n",
       "      <td>4.041147</td>\n",
       "      <td>2.187231</td>\n",
       "      <td>3.972255</td>\n",
       "      <td>-0.441471</td>\n",
       "      <td>...</td>\n",
       "      <td>1</td>\n",
       "      <td>0</td>\n",
       "      <td>1</td>\n",
       "      <td>0</td>\n",
       "      <td>1</td>\n",
       "      <td>0</td>\n",
       "      <td>1</td>\n",
       "      <td>0</td>\n",
       "      <td>1</td>\n",
       "      <td>0</td>\n",
       "    </tr>\n",
       "  </tbody>\n",
       "</table>\n",
       "<p>5 rows × 74 columns</p>\n",
       "</div>"
      ],
      "text/plain": [
       "   donor_age  recipient_age  recipient_body_mass  CMV_status   antigen  \\\n",
       "0  -1.289981      -0.062658            -0.041097    1.335283 -0.922760   \n",
       "1  -1.227878      -1.120972            -0.779836   -1.428901 -0.922760   \n",
       "2  -0.857918      -0.629612            -0.636192    0.413889 -0.922760   \n",
       "3   0.753104       1.543712             0.728424   -0.507506 -0.922760   \n",
       "4  -0.013717      -1.631231            -1.374932   -1.428901  1.083706   \n",
       "\n",
       "      allel  CD34_x1e6_per_kg  CD3_x1e8_per_kg  CD3_to_CD34_ratio  \\\n",
       "0 -0.843864         -0.474500         0.167062           1.338760   \n",
       "1 -0.843864         -0.747563        -1.141966          11.078295   \n",
       "2 -0.843864         -0.399661        -1.139332          19.013230   \n",
       "3 -0.843864         -0.772846        -1.213080          29.481647   \n",
       "4  0.283297          4.041147         2.187231           3.972255   \n",
       "\n",
       "   ANC_recovery  ...  tx_post_relapse_no  tx_post_relapse_yes  \\\n",
       "0      1.246508  ...                   1                    0   \n",
       "1      0.233720  ...                   1                    0   \n",
       "2      2.596891  ...                   1                    0   \n",
       "3      2.596891  ...                   1                    0   \n",
       "4     -0.441471  ...                   1                    0   \n",
       "\n",
       "   acute_GvHD_II_III_IV_no  acute_GvHD_II_III_IV_yes  acute_GvHD_III_IV_no  \\\n",
       "0                        0                         1                     0   \n",
       "1                        0                         1                     1   \n",
       "2                        0                         1                     1   \n",
       "3                        0                         1                     0   \n",
       "4                        1                         0                     1   \n",
       "\n",
       "   acute_GvHD_III_IV_yes  extensive_chronic_GvHD_no  \\\n",
       "0                      1                          1   \n",
       "1                      0                          1   \n",
       "2                      0                          1   \n",
       "3                      1                          1   \n",
       "4                      0                          1   \n",
       "\n",
       "   extensive_chronic_GvHD_yes  relapse_no  relapse_yes  \n",
       "0                           0           1            0  \n",
       "1                           0           0            1  \n",
       "2                           0           0            1  \n",
       "3                           0           1            0  \n",
       "4                           0           1            0  \n",
       "\n",
       "[5 rows x 74 columns]"
      ]
     },
     "execution_count": 3,
     "metadata": {},
     "output_type": "execute_result"
    }
   ],
   "source": [
    "df.head()"
   ]
  },
  {
   "cell_type": "code",
   "execution_count": 4,
   "id": "c055cfb8",
   "metadata": {},
   "outputs": [
    {
     "data": {
      "text/html": [
       "<div>\n",
       "<style scoped>\n",
       "    .dataframe tbody tr th:only-of-type {\n",
       "        vertical-align: middle;\n",
       "    }\n",
       "\n",
       "    .dataframe tbody tr th {\n",
       "        vertical-align: top;\n",
       "    }\n",
       "\n",
       "    .dataframe thead th {\n",
       "        text-align: right;\n",
       "    }\n",
       "</style>\n",
       "<table border=\"1\" class=\"dataframe\">\n",
       "  <thead>\n",
       "    <tr style=\"text-align: right;\">\n",
       "      <th></th>\n",
       "      <th>recipient_age</th>\n",
       "      <th>recipient_body_mass</th>\n",
       "      <th>CD3_x1e8_per_kg</th>\n",
       "      <th>PLT_recovery</th>\n",
       "      <th>survival_time</th>\n",
       "      <th>donor_ABO_AB</th>\n",
       "      <th>recipient_rh_minus</th>\n",
       "      <th>recipient_rh_plus</th>\n",
       "      <th>disease_lymphoma</th>\n",
       "      <th>risk_group_high</th>\n",
       "      <th>risk_group_low</th>\n",
       "      <th>acute_GvHD_III_IV_no</th>\n",
       "      <th>acute_GvHD_III_IV_yes</th>\n",
       "      <th>relapse_no</th>\n",
       "      <th>relapse_yes</th>\n",
       "    </tr>\n",
       "  </thead>\n",
       "  <tbody>\n",
       "    <tr>\n",
       "      <th>0</th>\n",
       "      <td>-0.062658</td>\n",
       "      <td>-0.041097</td>\n",
       "      <td>0.167062</td>\n",
       "      <td>0.548219</td>\n",
       "      <td>0.071115</td>\n",
       "      <td>0</td>\n",
       "      <td>0</td>\n",
       "      <td>1</td>\n",
       "      <td>0</td>\n",
       "      <td>1</td>\n",
       "      <td>0</td>\n",
       "      <td>0</td>\n",
       "      <td>1</td>\n",
       "      <td>1</td>\n",
       "      <td>0</td>\n",
       "    </tr>\n",
       "    <tr>\n",
       "      <th>1</th>\n",
       "      <td>-1.120972</td>\n",
       "      <td>-0.779836</td>\n",
       "      <td>-1.141966</td>\n",
       "      <td>0.150305</td>\n",
       "      <td>-0.915531</td>\n",
       "      <td>0</td>\n",
       "      <td>0</td>\n",
       "      <td>1</td>\n",
       "      <td>0</td>\n",
       "      <td>0</td>\n",
       "      <td>1</td>\n",
       "      <td>1</td>\n",
       "      <td>0</td>\n",
       "      <td>0</td>\n",
       "      <td>1</td>\n",
       "    </tr>\n",
       "    <tr>\n",
       "      <th>2</th>\n",
       "      <td>-0.629612</td>\n",
       "      <td>-0.636192</td>\n",
       "      <td>-1.139332</td>\n",
       "      <td>-0.332877</td>\n",
       "      <td>-0.594517</td>\n",
       "      <td>0</td>\n",
       "      <td>0</td>\n",
       "      <td>1</td>\n",
       "      <td>0</td>\n",
       "      <td>0</td>\n",
       "      <td>1</td>\n",
       "      <td>1</td>\n",
       "      <td>0</td>\n",
       "      <td>0</td>\n",
       "      <td>1</td>\n",
       "    </tr>\n",
       "    <tr>\n",
       "      <th>3</th>\n",
       "      <td>1.543712</td>\n",
       "      <td>0.728424</td>\n",
       "      <td>-1.213080</td>\n",
       "      <td>-0.077075</td>\n",
       "      <td>-1.045353</td>\n",
       "      <td>0</td>\n",
       "      <td>0</td>\n",
       "      <td>1</td>\n",
       "      <td>0</td>\n",
       "      <td>0</td>\n",
       "      <td>1</td>\n",
       "      <td>0</td>\n",
       "      <td>1</td>\n",
       "      <td>1</td>\n",
       "      <td>0</td>\n",
       "    </tr>\n",
       "    <tr>\n",
       "      <th>4</th>\n",
       "      <td>-1.631231</td>\n",
       "      <td>-1.374932</td>\n",
       "      <td>2.187231</td>\n",
       "      <td>-0.503412</td>\n",
       "      <td>1.303242</td>\n",
       "      <td>0</td>\n",
       "      <td>1</td>\n",
       "      <td>0</td>\n",
       "      <td>0</td>\n",
       "      <td>1</td>\n",
       "      <td>0</td>\n",
       "      <td>1</td>\n",
       "      <td>0</td>\n",
       "      <td>1</td>\n",
       "      <td>0</td>\n",
       "    </tr>\n",
       "  </tbody>\n",
       "</table>\n",
       "</div>"
      ],
      "text/plain": [
       "   recipient_age  recipient_body_mass  CD3_x1e8_per_kg  PLT_recovery  \\\n",
       "0      -0.062658            -0.041097         0.167062      0.548219   \n",
       "1      -1.120972            -0.779836        -1.141966      0.150305   \n",
       "2      -0.629612            -0.636192        -1.139332     -0.332877   \n",
       "3       1.543712             0.728424        -1.213080     -0.077075   \n",
       "4      -1.631231            -1.374932         2.187231     -0.503412   \n",
       "\n",
       "   survival_time  donor_ABO_AB  recipient_rh_minus  recipient_rh_plus  \\\n",
       "0       0.071115             0                   0                  1   \n",
       "1      -0.915531             0                   0                  1   \n",
       "2      -0.594517             0                   0                  1   \n",
       "3      -1.045353             0                   0                  1   \n",
       "4       1.303242             0                   1                  0   \n",
       "\n",
       "   disease_lymphoma  risk_group_high  risk_group_low  acute_GvHD_III_IV_no  \\\n",
       "0                 0                1               0                     0   \n",
       "1                 0                0               1                     1   \n",
       "2                 0                0               1                     1   \n",
       "3                 0                0               1                     0   \n",
       "4                 0                1               0                     1   \n",
       "\n",
       "   acute_GvHD_III_IV_yes  relapse_no  relapse_yes  \n",
       "0                      1           1            0  \n",
       "1                      0           0            1  \n",
       "2                      0           0            1  \n",
       "3                      1           1            0  \n",
       "4                      0           1            0  "
      ]
     },
     "execution_count": 4,
     "metadata": {},
     "output_type": "execute_result"
    }
   ],
   "source": [
    "red_df.head()"
   ]
  },
  {
   "cell_type": "code",
   "execution_count": 5,
   "id": "f776097d",
   "metadata": {},
   "outputs": [],
   "source": [
    "# split columns into features (X) & result (y)\n",
    "X = df.drop('survival_status', axis = 1)\n",
    "y = df['survival_status']"
   ]
  },
  {
   "cell_type": "code",
   "execution_count": 6,
   "id": "fd02360e",
   "metadata": {},
   "outputs": [],
   "source": [
    "from sklearn.model_selection import train_test_split"
   ]
  },
  {
   "cell_type": "code",
   "execution_count": 7,
   "id": "910eeef1",
   "metadata": {},
   "outputs": [],
   "source": [
    "# split train and test data for both datasets\n",
    "\n",
    "# full dataset\n",
    "X_train,X_test,y_train,y_test = train_test_split(X, y, train_size=.8)\n",
    "\n",
    "# reduced dataset\n",
    "red_X_train, red_X_test, red_y_train, red_y_test = train_test_split(red_df, y, train_size=.8)"
   ]
  },
  {
   "cell_type": "markdown",
   "id": "dfd65a50",
   "metadata": {},
   "source": [
    "## Building  Predictive Models"
   ]
  },
  {
   "cell_type": "markdown",
   "id": "d0d9f6a8",
   "metadata": {},
   "source": [
    "In order to judge the performance of the models, both accuracy and recall will be looked at. In this context, recall is especially important since we are interested in identifying the highest possible number truly positive (did not survive) cases."
   ]
  },
  {
   "cell_type": "markdown",
   "id": "2b4e7d3f",
   "metadata": {},
   "source": [
    "### Logistic Regression"
   ]
  },
  {
   "cell_type": "code",
   "execution_count": 8,
   "id": "a047406c",
   "metadata": {},
   "outputs": [],
   "source": [
    "from sklearn.linear_model import LogisticRegression\n",
    "from sklearn.model_selection import GridSearchCV\n",
    "from sklearn.model_selection import cross_val_score"
   ]
  },
  {
   "cell_type": "markdown",
   "id": "4a17b1cc",
   "metadata": {},
   "source": [
    "**Using Full Dataset**"
   ]
  },
  {
   "cell_type": "markdown",
   "id": "35287af7",
   "metadata": {},
   "source": [
    "L1 Regularization"
   ]
  },
  {
   "cell_type": "code",
   "execution_count": 67,
   "id": "d36a27ee",
   "metadata": {
    "scrolled": true
   },
   "outputs": [],
   "source": [
    "%%capture\n",
    "\n",
    "# parameters of logistic regression model\n",
    "params = {'C':[0.01, 0.05, 0.1, 0.2],\n",
    "          'solver':['liblinear','saga']}\n",
    "\n",
    "# grid search\n",
    "gscv = GridSearchCV(LogisticRegression(penalty='l1', max_iter=300),\n",
    "                    param_grid=params,\n",
    "                    cv=5,\n",
    "                    scoring='recall',\n",
    "                    refit=True)\n",
    "\n",
    "# fit mdodel with full dataset\n",
    "gscv.fit(X_train, y_train)"
   ]
  },
  {
   "cell_type": "code",
   "execution_count": 68,
   "id": "3d72ceeb",
   "metadata": {},
   "outputs": [
    {
     "name": "stdout",
     "output_type": "stream",
     "text": [
      "{'C': 0.05, 'solver': 'liblinear'}\n"
     ]
    }
   ],
   "source": [
    "# what are the parameters of the best model?\n",
    "print(gscv.best_params_)"
   ]
  },
  {
   "cell_type": "code",
   "execution_count": 69,
   "id": "a1c83fc2",
   "metadata": {},
   "outputs": [
    {
     "name": "stdout",
     "output_type": "stream",
     "text": [
      "accuracy: 0.50 +- 0.09\n",
      "recall: 0.80 +- 0.80\n"
     ]
    }
   ],
   "source": [
    "# cross-val score of the best model\n",
    "scores = cross_val_score(gscv.best_estimator_,X_test,y_test,cv=5)\n",
    "rc_scores = cross_val_score(gscv.best_estimator_,X_test,y_test,cv=5, scoring='recall')\n",
    "\n",
    "print(f'accuracy: {np.mean(scores):0.2f} +- {2*np.std(scores):0.2f}')\n",
    "print(f'recall: {np.mean(rc_scores):0.2f} +- {2*np.std(rc_scores):0.2f}')"
   ]
  },
  {
   "cell_type": "markdown",
   "id": "b4072d3a",
   "metadata": {},
   "source": [
    "L2 Regularization"
   ]
  },
  {
   "cell_type": "code",
   "execution_count": 12,
   "id": "2e6995f2",
   "metadata": {},
   "outputs": [],
   "source": [
    "%%capture\n",
    "\n",
    "# parameters of logistic regression model\n",
    "params = {'C':[0.2, 0.3, 0.4],\n",
    "          'solver':['lbfgs','liblinear','newton-cg','newton-cholesky','sag','saga']}\n",
    "\n",
    "# grid search\n",
    "gscv = GridSearchCV(LogisticRegression(penalty='l2', max_iter=300),\n",
    "                    param_grid=params,\n",
    "                    cv=5,\n",
    "                    scoring='recall',\n",
    "                    refit=True)\n",
    "\n",
    "# fit mdodel with full dataset\n",
    "gscv.fit(X_train, y_train)"
   ]
  },
  {
   "cell_type": "code",
   "execution_count": 13,
   "id": "734165d9",
   "metadata": {},
   "outputs": [
    {
     "name": "stdout",
     "output_type": "stream",
     "text": [
      "{'C': 0.3, 'solver': 'lbfgs'}\n"
     ]
    }
   ],
   "source": [
    "# what are the parameters of the best model?\n",
    "print(gscv.best_params_)"
   ]
  },
  {
   "cell_type": "code",
   "execution_count": 14,
   "id": "7338e947",
   "metadata": {},
   "outputs": [
    {
     "name": "stdout",
     "output_type": "stream",
     "text": [
      "accuracy: 0.80 +- 0.46\n",
      "recall: 0.75 +- 0.77\n"
     ]
    }
   ],
   "source": [
    "# cross-val score of the best model\n",
    "scores = cross_val_score(gscv.best_estimator_,X_test,y_test,cv=5)\n",
    "rc_scores = cross_val_score(gscv.best_estimator_,X_test,y_test,cv=5, scoring='recall')\n",
    "\n",
    "print(f'accuracy: {np.mean(scores):0.2f} +- {2*np.std(scores):0.2f}')\n",
    "print(f'recall: {np.mean(rc_scores):0.2f} +- {2*np.std(rc_scores):0.2f}')"
   ]
  },
  {
   "cell_type": "markdown",
   "id": "37cbd61f",
   "metadata": {},
   "source": [
    "ElasticNet"
   ]
  },
  {
   "cell_type": "code",
   "execution_count": 70,
   "id": "030591ca",
   "metadata": {},
   "outputs": [],
   "source": [
    "%%capture\n",
    "\n",
    "# parameters of logistic regression model\n",
    "params = {'C':[0.01, 0.05, 0.1],\n",
    "          'l1_ratio':[0.1, 0.2, 0.3]}\n",
    "\n",
    "# grid search\n",
    "gscv = GridSearchCV(LogisticRegression(penalty='elasticnet', solver='saga', max_iter=300),\n",
    "                    param_grid=params,\n",
    "                    cv=5,\n",
    "                    scoring='recall',\n",
    "                    refit=True)\n",
    "\n",
    "# fit mdodel with full dataset\n",
    "gscv.fit(X_train, y_train)"
   ]
  },
  {
   "cell_type": "code",
   "execution_count": 71,
   "id": "68b684ce",
   "metadata": {},
   "outputs": [
    {
     "name": "stdout",
     "output_type": "stream",
     "text": [
      "{'C': 0.05, 'l1_ratio': 0.3}\n"
     ]
    }
   ],
   "source": [
    "# what are the parameters of the best model?\n",
    "print(gscv.best_params_)"
   ]
  },
  {
   "cell_type": "code",
   "execution_count": 72,
   "id": "81c9233e",
   "metadata": {},
   "outputs": [
    {
     "name": "stdout",
     "output_type": "stream",
     "text": [
      "accuracy: 0.93 +- 0.20\n",
      "recall: 0.95 +- 0.20\n"
     ]
    },
    {
     "name": "stderr",
     "output_type": "stream",
     "text": [
      "/Users/eubinpark/opt/anaconda3/lib/python3.9/site-packages/sklearn/linear_model/_sag.py:350: ConvergenceWarning: The max_iter was reached which means the coef_ did not converge\n",
      "  warnings.warn(\n",
      "/Users/eubinpark/opt/anaconda3/lib/python3.9/site-packages/sklearn/linear_model/_sag.py:350: ConvergenceWarning: The max_iter was reached which means the coef_ did not converge\n",
      "  warnings.warn(\n",
      "/Users/eubinpark/opt/anaconda3/lib/python3.9/site-packages/sklearn/linear_model/_sag.py:350: ConvergenceWarning: The max_iter was reached which means the coef_ did not converge\n",
      "  warnings.warn(\n",
      "/Users/eubinpark/opt/anaconda3/lib/python3.9/site-packages/sklearn/linear_model/_sag.py:350: ConvergenceWarning: The max_iter was reached which means the coef_ did not converge\n",
      "  warnings.warn(\n",
      "/Users/eubinpark/opt/anaconda3/lib/python3.9/site-packages/sklearn/linear_model/_sag.py:350: ConvergenceWarning: The max_iter was reached which means the coef_ did not converge\n",
      "  warnings.warn(\n",
      "/Users/eubinpark/opt/anaconda3/lib/python3.9/site-packages/sklearn/linear_model/_sag.py:350: ConvergenceWarning: The max_iter was reached which means the coef_ did not converge\n",
      "  warnings.warn(\n",
      "/Users/eubinpark/opt/anaconda3/lib/python3.9/site-packages/sklearn/linear_model/_sag.py:350: ConvergenceWarning: The max_iter was reached which means the coef_ did not converge\n",
      "  warnings.warn(\n",
      "/Users/eubinpark/opt/anaconda3/lib/python3.9/site-packages/sklearn/linear_model/_sag.py:350: ConvergenceWarning: The max_iter was reached which means the coef_ did not converge\n",
      "  warnings.warn(\n"
     ]
    }
   ],
   "source": [
    "# cross-val score of the best model\n",
    "scores = cross_val_score(gscv.best_estimator_,X_test,y_test,cv=5)\n",
    "rc_scores = cross_val_score(gscv.best_estimator_,X_test,y_test,cv=5, scoring='recall')\n",
    "\n",
    "print(f'accuracy: {np.mean(scores):0.2f} +- {2*np.std(scores):0.2f}')\n",
    "print(f'recall: {np.mean(rc_scores):0.2f} +- {2*np.std(rc_scores):0.2f}')"
   ]
  },
  {
   "cell_type": "markdown",
   "id": "0d242c33",
   "metadata": {},
   "source": [
    "**Using Reduced Dataset**"
   ]
  },
  {
   "cell_type": "markdown",
   "id": "9e022b29",
   "metadata": {},
   "source": [
    "L1 Regularization"
   ]
  },
  {
   "cell_type": "code",
   "execution_count": 76,
   "id": "7d757415",
   "metadata": {},
   "outputs": [],
   "source": [
    "%%capture\n",
    "\n",
    "# parameters of logistic regression model\n",
    "params = {'C':[0.1, 0.2, 0.3],\n",
    "          'solver':['liblinear','saga']}\n",
    "\n",
    "# grid search\n",
    "gscv = GridSearchCV(LogisticRegression(penalty='l1', max_iter=300),\n",
    "                    param_grid=params,\n",
    "                    cv=5,\n",
    "                    scoring='recall',\n",
    "                    refit=True)\n",
    "\n",
    "# fit mdodel with full dataset\n",
    "gscv.fit(red_X_train, red_y_train)"
   ]
  },
  {
   "cell_type": "code",
   "execution_count": 77,
   "id": "07ed0abb",
   "metadata": {},
   "outputs": [
    {
     "name": "stdout",
     "output_type": "stream",
     "text": [
      "{'C': 0.2, 'solver': 'liblinear'}\n"
     ]
    }
   ],
   "source": [
    "# what are the parameters of the best model?\n",
    "print(gscv.best_params_)"
   ]
  },
  {
   "cell_type": "code",
   "execution_count": 78,
   "id": "07254b06",
   "metadata": {},
   "outputs": [
    {
     "name": "stdout",
     "output_type": "stream",
     "text": [
      "accuracy: 0.92 +- 0.13\n",
      "recall: 1.00 +- 0.00\n"
     ]
    }
   ],
   "source": [
    "# cross-val score of the best model\n",
    "scores = cross_val_score(gscv.best_estimator_,red_X_test,red_y_test,cv=5)\n",
    "rc_scores = cross_val_score(gscv.best_estimator_,red_X_test,red_y_test,cv=5, scoring='recall')\n",
    "\n",
    "print(f'accuracy: {np.mean(scores):0.2f} +- {2*np.std(scores):0.2f}')\n",
    "print(f'recall: {np.mean(rc_scores):0.2f} +- {2*np.std(rc_scores):0.2f}')"
   ]
  },
  {
   "cell_type": "markdown",
   "id": "b022f116",
   "metadata": {},
   "source": [
    "L2 Regularization"
   ]
  },
  {
   "cell_type": "code",
   "execution_count": 85,
   "id": "5b65bd00",
   "metadata": {},
   "outputs": [],
   "source": [
    "%%capture\n",
    "\n",
    "# parameters of logistic regression model\n",
    "params = {'C':[0.05, 0.1, 0.2],\n",
    "          'solver':['lbfgs','liblinear','newton-cg','newton-cholesky','sag','saga']}\n",
    "\n",
    "# grid search\n",
    "gscv = GridSearchCV(LogisticRegression(penalty='l2', max_iter=300),\n",
    "                    param_grid=params,\n",
    "                    cv=5,\n",
    "                    scoring='recall',\n",
    "                    refit=True)\n",
    "\n",
    "# fit mdodel with full dataset\n",
    "gscv.fit(red_X_train, red_y_train)"
   ]
  },
  {
   "cell_type": "code",
   "execution_count": 86,
   "id": "2b99501f",
   "metadata": {},
   "outputs": [
    {
     "name": "stdout",
     "output_type": "stream",
     "text": [
      "{'C': 0.1, 'solver': 'lbfgs'}\n"
     ]
    }
   ],
   "source": [
    "# what are the parameters of the best model?\n",
    "print(gscv.best_params_)"
   ]
  },
  {
   "cell_type": "code",
   "execution_count": 87,
   "id": "40e6bed7",
   "metadata": {},
   "outputs": [
    {
     "name": "stdout",
     "output_type": "stream",
     "text": [
      "accuracy: 0.89 +- 0.11\n",
      "recall: 0.93 +- 0.27\n"
     ]
    }
   ],
   "source": [
    "# cross-val score of the best model\n",
    "scores = cross_val_score(gscv.best_estimator_,red_X_test,red_y_test,cv=5)\n",
    "rc_scores = cross_val_score(gscv.best_estimator_,red_X_test,red_y_test,cv=5, scoring='recall')\n",
    "\n",
    "print(f'accuracy: {np.mean(scores):0.2f} +- {2*np.std(scores):0.2f}')\n",
    "print(f'recall: {np.mean(rc_scores):0.2f} +- {2*np.std(rc_scores):0.2f}')"
   ]
  },
  {
   "cell_type": "markdown",
   "id": "91e5874a",
   "metadata": {},
   "source": [
    "ElasticNet"
   ]
  },
  {
   "cell_type": "code",
   "execution_count": 96,
   "id": "265763b0",
   "metadata": {},
   "outputs": [],
   "source": [
    "%%capture\n",
    "\n",
    "# parameters of logistic regression model\n",
    "params = {'C':[0.01, 0.05, 0.1],\n",
    "          'l1_ratio':[0.05, 0.01, 0.05]}\n",
    "\n",
    "# grid search\n",
    "gscv = GridSearchCV(LogisticRegression(penalty='elasticnet', solver='saga', max_iter=300),\n",
    "                    param_grid=params,\n",
    "                    cv=5,\n",
    "                    scoring='recall',\n",
    "                    refit=True)\n",
    "\n",
    "# fit mdodel with full dataset\n",
    "gscv.fit(red_X_train, red_y_train)"
   ]
  },
  {
   "cell_type": "code",
   "execution_count": 97,
   "id": "03863790",
   "metadata": {},
   "outputs": [
    {
     "name": "stdout",
     "output_type": "stream",
     "text": [
      "{'C': 0.05, 'l1_ratio': 0.05}\n"
     ]
    }
   ],
   "source": [
    "# what are the parameters of the best model?\n",
    "print(gscv.best_params_)"
   ]
  },
  {
   "cell_type": "code",
   "execution_count": 98,
   "id": "a5a0513d",
   "metadata": {},
   "outputs": [
    {
     "name": "stdout",
     "output_type": "stream",
     "text": [
      "accuracy: 0.87 +- 0.02\n",
      "recall: 0.87 +- 0.33\n"
     ]
    }
   ],
   "source": [
    "# cross-val score of the best model\n",
    "scores = cross_val_score(gscv.best_estimator_,red_X_test,red_y_test,cv=5)\n",
    "rc_scores = cross_val_score(gscv.best_estimator_,red_X_test,red_y_test,cv=5, scoring='recall')\n",
    "\n",
    "print(f'accuracy: {np.mean(scores):0.2f} +- {2*np.std(scores):0.2f}')\n",
    "print(f'recall: {np.mean(rc_scores):0.2f} +- {2*np.std(rc_scores):0.2f}')"
   ]
  },
  {
   "cell_type": "markdown",
   "id": "3d318115",
   "metadata": {},
   "source": [
    "### Support Vector Machine (SVM)"
   ]
  },
  {
   "cell_type": "code",
   "execution_count": 27,
   "id": "51eee6a5",
   "metadata": {},
   "outputs": [],
   "source": [
    "from sklearn.svm import SVC"
   ]
  },
  {
   "cell_type": "markdown",
   "id": "2116290d",
   "metadata": {},
   "source": [
    "**Using Full Dataset**"
   ]
  },
  {
   "cell_type": "code",
   "execution_count": 99,
   "id": "dd63e5f4",
   "metadata": {},
   "outputs": [],
   "source": [
    "%%capture\n",
    "\n",
    "# parameters of svm model\n",
    "params = {'C':[0.05, 0.1, 0.2],\n",
    "          'kernel':['linear', 'poly', 'rbf', 'sigmoid'],\n",
    "          'gamma':['scale', 'auto'],\n",
    "          'degree':[2, 3, 4] # ignored if kernel is not poly\n",
    "         }\n",
    "\n",
    "# grid search\n",
    "gscv = GridSearchCV(SVC(),\n",
    "                    param_grid=params,\n",
    "                    cv=5,\n",
    "                    scoring='recall',\n",
    "                    refit=True)\n",
    "\n",
    "# fit mdodel with full dataset\n",
    "gscv.fit(X_train, y_train)"
   ]
  },
  {
   "cell_type": "code",
   "execution_count": 100,
   "id": "5b961925",
   "metadata": {},
   "outputs": [
    {
     "name": "stdout",
     "output_type": "stream",
     "text": [
      "{'C': 0.1, 'degree': 2, 'gamma': 'scale', 'kernel': 'linear'}\n"
     ]
    }
   ],
   "source": [
    "# what are the parameters of the best model?\n",
    "print(gscv.best_params_)"
   ]
  },
  {
   "cell_type": "code",
   "execution_count": 101,
   "id": "12e02841",
   "metadata": {},
   "outputs": [
    {
     "name": "stdout",
     "output_type": "stream",
     "text": [
      "accuracy: 0.79 +- 0.33\n",
      "recall: 0.73 +- 0.55\n"
     ]
    }
   ],
   "source": [
    "# cross-val score of the best model\n",
    "scores = cross_val_score(gscv.best_estimator_,X_test,y_test,cv=5)\n",
    "rc_scores = cross_val_score(gscv.best_estimator_,X_test,y_test,cv=5, scoring='recall')\n",
    "\n",
    "print(f'accuracy: {np.mean(scores):0.2f} +- {2*np.std(scores):0.2f}')\n",
    "print(f'recall: {np.mean(rc_scores):0.2f} +- {2*np.std(rc_scores):0.2f}')"
   ]
  },
  {
   "cell_type": "markdown",
   "id": "5ae62656",
   "metadata": {},
   "source": [
    "**Using Reduced Dataset**"
   ]
  },
  {
   "cell_type": "code",
   "execution_count": 105,
   "id": "799b0e36",
   "metadata": {},
   "outputs": [],
   "source": [
    "%%capture\n",
    "\n",
    "# parameters of svm model\n",
    "params = {'C':[0.1, 0.2, 0.3],\n",
    "          'kernel':['linear', 'poly', 'rbf', 'sigmoid'],\n",
    "          'gamma':['scale', 'auto'],\n",
    "          'degree':[2, 3, 4, 5] # ignored if kernel is not poly\n",
    "         }\n",
    "\n",
    "# grid search\n",
    "gscv = GridSearchCV(SVC(),\n",
    "                    param_grid=params,\n",
    "                    cv=5,\n",
    "                    scoring='recall',\n",
    "                    refit=True)\n",
    "\n",
    "# fit mdodel with full dataset\n",
    "gscv.fit(red_X_train, red_y_train)"
   ]
  },
  {
   "cell_type": "code",
   "execution_count": 106,
   "id": "db46e0b1",
   "metadata": {},
   "outputs": [
    {
     "name": "stdout",
     "output_type": "stream",
     "text": [
      "{'C': 0.2, 'degree': 2, 'gamma': 'auto', 'kernel': 'sigmoid'}\n"
     ]
    }
   ],
   "source": [
    "# what are the parameters of the best model?\n",
    "print(gscv.best_params_)"
   ]
  },
  {
   "cell_type": "code",
   "execution_count": 107,
   "id": "106886d6",
   "metadata": {},
   "outputs": [
    {
     "name": "stdout",
     "output_type": "stream",
     "text": [
      "accuracy: 0.61 +- 0.21\n",
      "recall: 0.13 +- 0.33\n"
     ]
    }
   ],
   "source": [
    "# cross-val score of the best model\n",
    "scores = cross_val_score(gscv.best_estimator_,red_X_test,red_y_test,cv=5)\n",
    "rc_scores = cross_val_score(gscv.best_estimator_,red_X_test,red_y_test,cv=5, scoring='recall')\n",
    "\n",
    "print(f'accuracy: {np.mean(scores):0.2f} +- {2*np.std(scores):0.2f}')\n",
    "print(f'recall: {np.mean(rc_scores):0.2f} +- {2*np.std(rc_scores):0.2f}')"
   ]
  },
  {
   "cell_type": "markdown",
   "id": "0d551c81",
   "metadata": {},
   "source": [
    "### K-Nearest Neighbors (KNN)"
   ]
  },
  {
   "cell_type": "code",
   "execution_count": 34,
   "id": "59f51989",
   "metadata": {},
   "outputs": [],
   "source": [
    "from sklearn.neighbors import KNeighborsClassifier"
   ]
  },
  {
   "cell_type": "markdown",
   "id": "94227ebc",
   "metadata": {},
   "source": [
    "**Using Full Dataset**"
   ]
  },
  {
   "cell_type": "code",
   "execution_count": 35,
   "id": "09577cb8",
   "metadata": {},
   "outputs": [],
   "source": [
    "%%capture\n",
    "\n",
    "# parameters of knn model\n",
    "params = {'n_neighbors':[19, 20, 21, 22, 23],\n",
    "          'weights':['uniform', 'distance'],\n",
    "          'metric':['manhattan', 'euclidean', 'cosine']}\n",
    "\n",
    "# grid search\n",
    "gscv = GridSearchCV(KNeighborsClassifier(n_jobs=-1),\n",
    "                    param_grid=params,\n",
    "                    cv=5,\n",
    "                    scoring='recall',\n",
    "                    refit=True)\n",
    "\n",
    "# fit mdodel with full dataset\n",
    "gscv.fit(X_train, y_train)"
   ]
  },
  {
   "cell_type": "code",
   "execution_count": 36,
   "id": "afb9caef",
   "metadata": {},
   "outputs": [
    {
     "name": "stdout",
     "output_type": "stream",
     "text": [
      "{'metric': 'cosine', 'n_neighbors': 21, 'weights': 'uniform'}\n"
     ]
    }
   ],
   "source": [
    "# what are the parameters of the best model?\n",
    "print(gscv.best_params_)"
   ]
  },
  {
   "cell_type": "code",
   "execution_count": 37,
   "id": "589116fc",
   "metadata": {},
   "outputs": [
    {
     "name": "stdout",
     "output_type": "stream",
     "text": [
      "accuracy: 0.43 +- 0.34\n",
      "recall: 0.38 +- 0.47\n"
     ]
    }
   ],
   "source": [
    "# cross-val score of the best model\n",
    "scores = cross_val_score(gscv.best_estimator_,X_test,y_test,cv=5)\n",
    "rc_scores = cross_val_score(gscv.best_estimator_,X_test,y_test,cv=5, scoring='recall')\n",
    "\n",
    "print(f'accuracy: {np.mean(scores):0.2f} +- {2*np.std(scores):0.2f}')\n",
    "print(f'recall: {np.mean(rc_scores):0.2f} +- {2*np.std(rc_scores):0.2f}')"
   ]
  },
  {
   "cell_type": "markdown",
   "id": "52209bec",
   "metadata": {},
   "source": [
    "**Using Reduced Dataset**"
   ]
  },
  {
   "cell_type": "code",
   "execution_count": 111,
   "id": "9b711d4a",
   "metadata": {},
   "outputs": [],
   "source": [
    "%%capture\n",
    "\n",
    "# parameters of knn model\n",
    "params = {'n_neighbors':[3, 4, 5, 7],\n",
    "          'weights':['uniform', 'distance'],\n",
    "          'metric':['manhattan', 'euclidean', 'cosine']}\n",
    "\n",
    "# grid search\n",
    "gscv = GridSearchCV(KNeighborsClassifier(n_jobs=-1),\n",
    "                    param_grid=params,\n",
    "                    cv=5,\n",
    "                    scoring='recall',\n",
    "                    refit=True)\n",
    "\n",
    "# fit mdodel with full dataset\n",
    "gscv.fit(red_X_train, red_y_train)"
   ]
  },
  {
   "cell_type": "code",
   "execution_count": 112,
   "id": "9c6816b1",
   "metadata": {},
   "outputs": [
    {
     "name": "stdout",
     "output_type": "stream",
     "text": [
      "{'metric': 'cosine', 'n_neighbors': 5, 'weights': 'uniform'}\n"
     ]
    }
   ],
   "source": [
    "# what are the parameters of the best model?\n",
    "print(gscv.best_params_)"
   ]
  },
  {
   "cell_type": "code",
   "execution_count": 113,
   "id": "15d3317a",
   "metadata": {},
   "outputs": [
    {
     "name": "stdout",
     "output_type": "stream",
     "text": [
      "accuracy: 0.82 +- 0.21\n",
      "recall: 0.88 +- 0.29\n"
     ]
    }
   ],
   "source": [
    "# cross-val score of the best model\n",
    "scores = cross_val_score(gscv.best_estimator_,red_X_test,red_y_test,cv=5)\n",
    "rc_scores = cross_val_score(gscv.best_estimator_,red_X_test,red_y_test,cv=5, scoring='recall')\n",
    "\n",
    "print(f'accuracy: {np.mean(scores):0.2f} +- {2*np.std(scores):0.2f}')\n",
    "print(f'recall: {np.mean(rc_scores):0.2f} +- {2*np.std(rc_scores):0.2f}')"
   ]
  },
  {
   "cell_type": "markdown",
   "id": "b644675a",
   "metadata": {},
   "source": [
    "### Decison Tree Classifier (DTC)"
   ]
  },
  {
   "cell_type": "code",
   "execution_count": 44,
   "id": "52e90f7f",
   "metadata": {},
   "outputs": [],
   "source": [
    "from sklearn.tree import DecisionTreeClassifier"
   ]
  },
  {
   "cell_type": "markdown",
   "id": "0f218fb3",
   "metadata": {},
   "source": [
    "**Using Full Dataset**"
   ]
  },
  {
   "cell_type": "code",
   "execution_count": 45,
   "id": "7d3c71ca",
   "metadata": {},
   "outputs": [],
   "source": [
    "%%capture\n",
    "\n",
    "# parameters of dtc model\n",
    "params = {'criterion':['gini', 'entropy', 'log_loss'],\n",
    "          'splitter':['best', 'random'],\n",
    "          'max_depth':[4, 5, 6, 7, 8]}\n",
    "\n",
    "# grid search\n",
    "gscv = GridSearchCV(DecisionTreeClassifier(),\n",
    "                    param_grid=params,\n",
    "                    cv=5,\n",
    "                    scoring='recall',\n",
    "                    refit=True)\n",
    "\n",
    "# fit mdodel with full dataset\n",
    "gscv.fit(X_train, y_train)"
   ]
  },
  {
   "cell_type": "code",
   "execution_count": 46,
   "id": "8437490e",
   "metadata": {},
   "outputs": [
    {
     "name": "stdout",
     "output_type": "stream",
     "text": [
      "{'criterion': 'log_loss', 'max_depth': 6, 'splitter': 'random'}\n"
     ]
    }
   ],
   "source": [
    "# what are the parameters of the best model?\n",
    "print(gscv.best_params_)"
   ]
  },
  {
   "cell_type": "code",
   "execution_count": 47,
   "id": "86a1d9df",
   "metadata": {},
   "outputs": [
    {
     "name": "stdout",
     "output_type": "stream",
     "text": [
      "accuracy: 0.77 +- 0.17\n",
      "recall: 0.85 +- 0.40\n"
     ]
    }
   ],
   "source": [
    "# cross-val score of the best model\n",
    "scores = cross_val_score(gscv.best_estimator_,X_test,y_test,cv=5)\n",
    "rc_scores = cross_val_score(gscv.best_estimator_,X_test,y_test,cv=5, scoring='recall')\n",
    "\n",
    "print(f'accuracy: {np.mean(scores):0.2f} +- {2*np.std(scores):0.2f}')\n",
    "print(f'recall: {np.mean(rc_scores):0.2f} +- {2*np.std(rc_scores):0.2f}')"
   ]
  },
  {
   "cell_type": "markdown",
   "id": "889893eb",
   "metadata": {},
   "source": [
    "**Using Reduced Dataset**"
   ]
  },
  {
   "cell_type": "code",
   "execution_count": 48,
   "id": "162eccb8",
   "metadata": {},
   "outputs": [],
   "source": [
    "%%capture\n",
    "\n",
    "# parameters of dtc model\n",
    "params = {'criterion':['gini', 'entropy', 'log_loss'],\n",
    "          'splitter':['best', 'random'],\n",
    "          'max_depth':[2, 3, 4, 5, 6]}\n",
    "\n",
    "# grid search\n",
    "gscv = GridSearchCV(DecisionTreeClassifier(),\n",
    "                    param_grid=params,\n",
    "                    cv=5,\n",
    "                    scoring='recall',\n",
    "                    refit=True)\n",
    "\n",
    "# fit mdodel with full dataset\n",
    "gscv.fit(red_X_train, red_y_train)"
   ]
  },
  {
   "cell_type": "code",
   "execution_count": 49,
   "id": "d96b5f37",
   "metadata": {},
   "outputs": [
    {
     "name": "stdout",
     "output_type": "stream",
     "text": [
      "{'criterion': 'gini', 'max_depth': 2, 'splitter': 'best'}\n"
     ]
    }
   ],
   "source": [
    "# what are the parameters of the best model?\n",
    "print(gscv.best_params_)"
   ]
  },
  {
   "cell_type": "code",
   "execution_count": 50,
   "id": "6c44ce2e",
   "metadata": {},
   "outputs": [
    {
     "name": "stdout",
     "output_type": "stream",
     "text": [
      "accuracy: 0.87 +- 0.22\n",
      "recall: 0.85 +- 0.40\n"
     ]
    }
   ],
   "source": [
    "# cross-val score of the best model\n",
    "scores = cross_val_score(gscv.best_estimator_,red_X_test,red_y_test,cv=5)\n",
    "rc_scores = cross_val_score(gscv.best_estimator_,red_X_test,red_y_test,cv=5, scoring='recall')\n",
    "\n",
    "print(f'accuracy: {np.mean(scores):0.2f} +- {2*np.std(scores):0.2f}')\n",
    "print(f'recall: {np.mean(rc_scores):0.2f} +- {2*np.std(rc_scores):0.2f}')"
   ]
  },
  {
   "cell_type": "markdown",
   "id": "d03b4303",
   "metadata": {},
   "source": [
    "### Random Forest Classifier"
   ]
  },
  {
   "cell_type": "code",
   "execution_count": 51,
   "id": "0a4f8351",
   "metadata": {},
   "outputs": [],
   "source": [
    "from sklearn.ensemble import RandomForestClassifier"
   ]
  },
  {
   "cell_type": "markdown",
   "id": "f750b137",
   "metadata": {},
   "source": [
    "**Using Full Dataset**"
   ]
  },
  {
   "cell_type": "code",
   "execution_count": 52,
   "id": "23267803",
   "metadata": {},
   "outputs": [],
   "source": [
    "%%capture\n",
    "\n",
    "# parameters of rfc model\n",
    "params = {'n_estimators':[60, 70, 80, 90, 100],\n",
    "          'criterion':['gini', 'entropy', 'log_loss'],\n",
    "          'max_depth':[4, 6, 8, 10, 12]}\n",
    "\n",
    "# grid search\n",
    "gscv = GridSearchCV(RandomForestClassifier(n_jobs=-1),\n",
    "                    param_grid=params,\n",
    "                    cv=5,\n",
    "                    scoring='recall',\n",
    "                    refit=True)\n",
    "\n",
    "# fit mdodel with full dataset\n",
    "gscv.fit(X_train, y_train)"
   ]
  },
  {
   "cell_type": "code",
   "execution_count": 53,
   "id": "f13f7e06",
   "metadata": {},
   "outputs": [
    {
     "name": "stdout",
     "output_type": "stream",
     "text": [
      "{'criterion': 'entropy', 'max_depth': 10, 'n_estimators': 80}\n"
     ]
    }
   ],
   "source": [
    "# what are the parameters of the best model?\n",
    "print(gscv.best_params_)"
   ]
  },
  {
   "cell_type": "code",
   "execution_count": 54,
   "id": "76e23e5d",
   "metadata": {},
   "outputs": [
    {
     "name": "stdout",
     "output_type": "stream",
     "text": [
      "accuracy: 0.69 +- 0.62\n",
      "recall: 0.65 +- 0.75\n"
     ]
    }
   ],
   "source": [
    "# cross-val score of the best model\n",
    "scores = cross_val_score(gscv.best_estimator_,X_test,y_test,cv=5)\n",
    "rc_scores = cross_val_score(gscv.best_estimator_,X_test,y_test,cv=5, scoring='recall')\n",
    "\n",
    "print(f'accuracy: {np.mean(scores):0.2f} +- {2*np.std(scores):0.2f}')\n",
    "print(f'recall: {np.mean(rc_scores):0.2f} +- {2*np.std(rc_scores):0.2f}')"
   ]
  },
  {
   "cell_type": "markdown",
   "id": "e6567298",
   "metadata": {},
   "source": [
    "**Using Reduced Dataset**"
   ]
  },
  {
   "cell_type": "code",
   "execution_count": 55,
   "id": "e230568a",
   "metadata": {},
   "outputs": [],
   "source": [
    "%%capture\n",
    "\n",
    "# parameters of rfc model\n",
    "params = {'n_estimators':[40, 50, 60, 70],\n",
    "          'criterion':['gini', 'entropy', 'log_loss'],\n",
    "          'max_depth':[2, 4, 6, 8, 10]}\n",
    "\n",
    "# grid search\n",
    "gscv = GridSearchCV(RandomForestClassifier(n_jobs=-1),\n",
    "                    param_grid=params,\n",
    "                    cv=5,\n",
    "                    scoring='recall',\n",
    "                    refit=True)\n",
    "\n",
    "# fit mdodel with full dataset\n",
    "gscv.fit(red_X_train, red_y_train)"
   ]
  },
  {
   "cell_type": "code",
   "execution_count": 56,
   "id": "c0b227e3",
   "metadata": {},
   "outputs": [
    {
     "name": "stdout",
     "output_type": "stream",
     "text": [
      "{'criterion': 'gini', 'max_depth': 10, 'n_estimators': 50}\n"
     ]
    }
   ],
   "source": [
    "# what are the parameters of the best model?\n",
    "print(gscv.best_params_)"
   ]
  },
  {
   "cell_type": "code",
   "execution_count": 57,
   "id": "dc5ecd8c",
   "metadata": {},
   "outputs": [
    {
     "name": "stdout",
     "output_type": "stream",
     "text": [
      "accuracy: 0.93 +- 0.20\n",
      "recall: 1.00 +- 0.00\n"
     ]
    }
   ],
   "source": [
    "# cross-val score of the best model\n",
    "scores = cross_val_score(gscv.best_estimator_,red_X_test,red_y_test,cv=5)\n",
    "rc_scores = cross_val_score(gscv.best_estimator_,red_X_test,red_y_test,cv=5, scoring='recall')\n",
    "\n",
    "print(f'accuracy: {np.mean(scores):0.2f} +- {2*np.std(scores):0.2f}')\n",
    "print(f'recall: {np.mean(rc_scores):0.2f} +- {2*np.std(rc_scores):0.2f}')"
   ]
  },
  {
   "cell_type": "markdown",
   "id": "e74a89f1",
   "metadata": {},
   "source": [
    "### Gradient Boosting Classifier (GBC)"
   ]
  },
  {
   "cell_type": "code",
   "execution_count": 114,
   "id": "eff404ce",
   "metadata": {},
   "outputs": [],
   "source": [
    "from sklearn.ensemble import GradientBoostingClassifier"
   ]
  },
  {
   "cell_type": "markdown",
   "id": "5d9591f4",
   "metadata": {},
   "source": [
    "**Using Full Dataset**"
   ]
  },
  {
   "cell_type": "code",
   "execution_count": 120,
   "id": "1a0cd235",
   "metadata": {},
   "outputs": [],
   "source": [
    "%%capture\n",
    "\n",
    "# parameters of gbc model\n",
    "params = {'learning_rate':[0.05, 0.1, 0.2, 0.3],\n",
    "          'n_estimators':[30, 40, 50, 60],\n",
    "          'max_depth':[2, 4, 6, 8]}\n",
    "\n",
    "# grid search\n",
    "gscv = GridSearchCV(GradientBoostingClassifier(),\n",
    "                    param_grid=params,\n",
    "                    cv=5,\n",
    "                    scoring='recall',\n",
    "                    refit=True)\n",
    "\n",
    "# fit mdodel with full dataset\n",
    "gscv.fit(X_train, y_train)"
   ]
  },
  {
   "cell_type": "code",
   "execution_count": 121,
   "id": "b4be1c8f",
   "metadata": {},
   "outputs": [
    {
     "name": "stdout",
     "output_type": "stream",
     "text": [
      "{'learning_rate': 0.05, 'max_depth': 4, 'n_estimators': 60}\n"
     ]
    }
   ],
   "source": [
    "# what are the parameters of the best model?\n",
    "print(gscv.best_params_)"
   ]
  },
  {
   "cell_type": "code",
   "execution_count": 122,
   "id": "981d6558",
   "metadata": {},
   "outputs": [
    {
     "name": "stdout",
     "output_type": "stream",
     "text": [
      "accuracy: 0.85 +- 0.29\n",
      "recall: 0.80 +- 0.37\n"
     ]
    }
   ],
   "source": [
    "# cross-val score of the best model\n",
    "scores = cross_val_score(gscv.best_estimator_,X_test,y_test,cv=5)\n",
    "rc_scores = cross_val_score(gscv.best_estimator_,X_test,y_test,cv=5, scoring='recall')\n",
    "\n",
    "print(f'accuracy: {np.mean(scores):0.2f} +- {2*np.std(scores):0.2f}')\n",
    "print(f'recall: {np.mean(rc_scores):0.2f} +- {2*np.std(rc_scores):0.2f}')"
   ]
  },
  {
   "cell_type": "markdown",
   "id": "db7ba482",
   "metadata": {},
   "source": [
    "**Using Reduced Dataset**"
   ]
  },
  {
   "cell_type": "code",
   "execution_count": 216,
   "id": "d98d1193",
   "metadata": {},
   "outputs": [],
   "source": [
    "%%capture\n",
    "\n",
    "# parameters of gbc model\n",
    "params = {'learning_rate':[0.005, 0.01, 0.05, 0.1],\n",
    "          'n_estimators':[30, 40, 50, 60],\n",
    "          'max_depth':[2, 4, 6, 8]}\n",
    "\n",
    "# grid search\n",
    "gscv = GridSearchCV(GradientBoostingClassifier(),\n",
    "                    param_grid=params,\n",
    "                    cv=5,\n",
    "                    scoring='recall',\n",
    "                    refit=True)\n",
    "\n",
    "# fit mdodel with full dataset\n",
    "gscv.fit(red_X_train, red_y_train)"
   ]
  },
  {
   "cell_type": "code",
   "execution_count": 217,
   "id": "09395016",
   "metadata": {},
   "outputs": [
    {
     "name": "stdout",
     "output_type": "stream",
     "text": [
      "{'learning_rate': 0.01, 'max_depth': 4, 'n_estimators': 50}\n"
     ]
    }
   ],
   "source": [
    "# what are the parameters of the best model?\n",
    "print(gscv.best_params_)"
   ]
  },
  {
   "cell_type": "code",
   "execution_count": 218,
   "id": "6549691c",
   "metadata": {},
   "outputs": [
    {
     "name": "stdout",
     "output_type": "stream",
     "text": [
      "accuracy: 0.84 +- 0.09\n",
      "recall: 0.91 +- 0.22\n"
     ]
    }
   ],
   "source": [
    "# cross-val score of the best model\n",
    "scores = cross_val_score(gscv.best_estimator_,red_X_test,red_y_test,cv=5)\n",
    "rc_scores = cross_val_score(gscv.best_estimator_,red_X_test,red_y_test,cv=5, scoring='recall')\n",
    "\n",
    "print(f'accuracy: {np.mean(scores):0.2f} +- {2*np.std(scores):0.2f}')\n",
    "print(f'recall: {np.mean(rc_scores):0.2f} +- {2*np.std(rc_scores):0.2f}')"
   ]
  },
  {
   "cell_type": "markdown",
   "id": "a20c5d64",
   "metadata": {},
   "source": [
    "### Extreme Gradient Boosting (XGB)"
   ]
  },
  {
   "cell_type": "code",
   "execution_count": 62,
   "id": "502d1698",
   "metadata": {},
   "outputs": [],
   "source": [
    "from xgboost import XGBClassifier"
   ]
  },
  {
   "cell_type": "markdown",
   "id": "8255cf05",
   "metadata": {},
   "source": [
    "**Using Full Dataset**"
   ]
  },
  {
   "cell_type": "code",
   "execution_count": 221,
   "id": "761ad254",
   "metadata": {},
   "outputs": [],
   "source": [
    "%%capture\n",
    "\n",
    "# parameters of xgb model\n",
    "params = {'eta':[0.05, 0.1, 0.2, 0.4],\n",
    "          'gamma':[1, 2, 3],\n",
    "          'max_depth': [2, 3, 4, 5],\n",
    "          'min_child_weight': [1, 2, 3]}\n",
    "\n",
    "# grid search\n",
    "gscv = GridSearchCV(XGBClassifier(),\n",
    "                    param_grid=params,\n",
    "                    cv=5,\n",
    "                    scoring='recall',\n",
    "                    refit=True)\n",
    "\n",
    "# fit mdodel with full dataset\n",
    "gscv.fit(X_train, y_train)"
   ]
  },
  {
   "cell_type": "code",
   "execution_count": 222,
   "id": "75dc9e12",
   "metadata": {},
   "outputs": [
    {
     "name": "stdout",
     "output_type": "stream",
     "text": [
      "{'eta': 0.1, 'gamma': 2, 'max_depth': 3, 'min_child_weight': 2}\n"
     ]
    }
   ],
   "source": [
    "# what are the parameters of the best model?\n",
    "print(gscv.best_params_)"
   ]
  },
  {
   "cell_type": "code",
   "execution_count": 223,
   "id": "50123656",
   "metadata": {},
   "outputs": [
    {
     "name": "stdout",
     "output_type": "stream",
     "text": [
      "accuracy: 0.95 +- 0.13\n",
      "recall: 0.93 +- 0.27\n"
     ]
    }
   ],
   "source": [
    "# cross-val score of the best model\n",
    "scores = cross_val_score(gscv.best_estimator_,X_test,y_test,cv=5)\n",
    "rc_scores = cross_val_score(gscv.best_estimator_,X_test,y_test,cv=5, scoring='recall')\n",
    "\n",
    "print(f'accuracy: {np.mean(scores):0.2f} +- {2*np.std(scores):0.2f}')\n",
    "print(f'recall: {np.mean(rc_scores):0.2f} +- {2*np.std(rc_scores):0.2f}')"
   ]
  },
  {
   "cell_type": "markdown",
   "id": "059100d3",
   "metadata": {},
   "source": [
    "**Using Reduced Dataset**"
   ]
  },
  {
   "cell_type": "code",
   "execution_count": 224,
   "id": "899d5e43",
   "metadata": {},
   "outputs": [],
   "source": [
    "%%capture\n",
    "\n",
    "# parameters of xgb model\n",
    "params = {'eta':[0.05, 0.1, 0.15],\n",
    "          'gamma':[1, 1.5, 2],\n",
    "          'max_depth': [2, 3, 4],\n",
    "          'min_child_weight': [1, 2, 3]}\n",
    "\n",
    "# grid search\n",
    "gscv = GridSearchCV(XGBClassifier(),\n",
    "                    param_grid=params,\n",
    "                    cv=5,\n",
    "                    scoring='recall',\n",
    "                    refit=True)\n",
    "\n",
    "# fit mdodel with full dataset\n",
    "gscv.fit(red_X_train, red_y_train)"
   ]
  },
  {
   "cell_type": "code",
   "execution_count": 225,
   "id": "ffa87db3",
   "metadata": {},
   "outputs": [
    {
     "name": "stdout",
     "output_type": "stream",
     "text": [
      "{'eta': 0.1, 'gamma': 1.5, 'max_depth': 3, 'min_child_weight': 1}\n"
     ]
    }
   ],
   "source": [
    "# what are the parameters of the best model?\n",
    "print(gscv.best_params_)"
   ]
  },
  {
   "cell_type": "code",
   "execution_count": 226,
   "id": "e0c3c1c8",
   "metadata": {},
   "outputs": [
    {
     "name": "stdout",
     "output_type": "stream",
     "text": [
      "accuracy: 0.89 +- 0.11\n",
      "recall: 0.91 +- 0.22\n"
     ]
    }
   ],
   "source": [
    "# cross-val score of the best model\n",
    "scores = cross_val_score(gscv.best_estimator_,red_X_test,red_y_test,cv=5)\n",
    "rc_scores = cross_val_score(gscv.best_estimator_,red_X_test,red_y_test,cv=5, scoring='recall')\n",
    "\n",
    "print(f'accuracy: {np.mean(scores):0.2f} +- {2*np.std(scores):0.2f}')\n",
    "print(f'recall: {np.mean(rc_scores):0.2f} +- {2*np.std(rc_scores):0.2f}')"
   ]
  },
  {
   "cell_type": "code",
   "execution_count": null,
   "id": "22242078",
   "metadata": {},
   "outputs": [],
   "source": []
  }
 ],
 "metadata": {
  "kernelspec": {
   "display_name": "Python 3 (ipykernel)",
   "language": "python",
   "name": "python3"
  },
  "language_info": {
   "codemirror_mode": {
    "name": "ipython",
    "version": 3
   },
   "file_extension": ".py",
   "mimetype": "text/x-python",
   "name": "python",
   "nbconvert_exporter": "python",
   "pygments_lexer": "ipython3",
   "version": "3.9.13"
  }
 },
 "nbformat": 4,
 "nbformat_minor": 5
}
