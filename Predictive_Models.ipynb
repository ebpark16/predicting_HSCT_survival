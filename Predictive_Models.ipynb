{
 "cells": [
  {
   "cell_type": "markdown",
   "id": "5476e1f7",
   "metadata": {},
   "source": [
    "# Predictive Models"
   ]
  },
  {
   "cell_type": "code",
   "execution_count": 1,
   "id": "837b976b",
   "metadata": {},
   "outputs": [],
   "source": [
    "import numpy as np\n",
    "import pandas as pd"
   ]
  },
  {
   "cell_type": "code",
   "execution_count": 2,
   "id": "85ddff70",
   "metadata": {},
   "outputs": [],
   "source": [
    "# full dataset\n",
    "df = pd.read_csv('data/bone_marrow_processed.csv')\n",
    "\n",
    "# reduced dataset\n",
    "red_df = pd.read_csv('data/reduced_data.csv')"
   ]
  },
  {
   "cell_type": "code",
   "execution_count": 3,
   "id": "cb77f2ec",
   "metadata": {},
   "outputs": [
    {
     "data": {
      "text/html": [
       "<div>\n",
       "<style scoped>\n",
       "    .dataframe tbody tr th:only-of-type {\n",
       "        vertical-align: middle;\n",
       "    }\n",
       "\n",
       "    .dataframe tbody tr th {\n",
       "        vertical-align: top;\n",
       "    }\n",
       "\n",
       "    .dataframe thead th {\n",
       "        text-align: right;\n",
       "    }\n",
       "</style>\n",
       "<table border=\"1\" class=\"dataframe\">\n",
       "  <thead>\n",
       "    <tr style=\"text-align: right;\">\n",
       "      <th></th>\n",
       "      <th>donor_age</th>\n",
       "      <th>recipient_age</th>\n",
       "      <th>recipient_body_mass</th>\n",
       "      <th>antigen</th>\n",
       "      <th>allel</th>\n",
       "      <th>CD34_x1e6_per_kg</th>\n",
       "      <th>CD3_x1e8_per_kg</th>\n",
       "      <th>CD3_to_CD34_ratio</th>\n",
       "      <th>ANC_recovery</th>\n",
       "      <th>PLT_recovery</th>\n",
       "      <th>...</th>\n",
       "      <th>HLA_group_1_one_antigen</th>\n",
       "      <th>HLA_group_1_three_diffs</th>\n",
       "      <th>HLA_group_1_two_diffs</th>\n",
       "      <th>risk_group_low</th>\n",
       "      <th>stem_cell_source_peripheral_blood</th>\n",
       "      <th>tx_post_relapse_yes</th>\n",
       "      <th>acute_GvHD_II_III_IV_yes</th>\n",
       "      <th>acute_GvHD_III_IV_yes</th>\n",
       "      <th>extensive_chronic_GvHD_yes</th>\n",
       "      <th>relapse_yes</th>\n",
       "    </tr>\n",
       "  </thead>\n",
       "  <tbody>\n",
       "    <tr>\n",
       "      <th>0</th>\n",
       "      <td>-1.289981</td>\n",
       "      <td>-0.062658</td>\n",
       "      <td>0.099054</td>\n",
       "      <td>0.0</td>\n",
       "      <td>0.0</td>\n",
       "      <td>-0.398474</td>\n",
       "      <td>0.376079</td>\n",
       "      <td>-0.946900</td>\n",
       "      <td>1.246508</td>\n",
       "      <td>1.187452</td>\n",
       "      <td>...</td>\n",
       "      <td>0</td>\n",
       "      <td>0</td>\n",
       "      <td>0</td>\n",
       "      <td>0</td>\n",
       "      <td>1</td>\n",
       "      <td>0</td>\n",
       "      <td>1</td>\n",
       "      <td>1</td>\n",
       "      <td>0</td>\n",
       "      <td>0</td>\n",
       "    </tr>\n",
       "    <tr>\n",
       "      <th>1</th>\n",
       "      <td>-1.227878</td>\n",
       "      <td>-1.120972</td>\n",
       "      <td>-0.739077</td>\n",
       "      <td>0.0</td>\n",
       "      <td>0.0</td>\n",
       "      <td>-0.833782</td>\n",
       "      <td>-1.424497</td>\n",
       "      <td>1.343242</td>\n",
       "      <td>0.233720</td>\n",
       "      <td>0.671081</td>\n",
       "      <td>...</td>\n",
       "      <td>0</td>\n",
       "      <td>0</td>\n",
       "      <td>0</td>\n",
       "      <td>1</td>\n",
       "      <td>0</td>\n",
       "      <td>0</td>\n",
       "      <td>1</td>\n",
       "      <td>0</td>\n",
       "      <td>0</td>\n",
       "      <td>1</td>\n",
       "    </tr>\n",
       "    <tr>\n",
       "      <th>2</th>\n",
       "      <td>-0.857918</td>\n",
       "      <td>-0.629612</td>\n",
       "      <td>-0.557357</td>\n",
       "      <td>0.0</td>\n",
       "      <td>0.0</td>\n",
       "      <td>-0.294272</td>\n",
       "      <td>-1.416174</td>\n",
       "      <td>1.928605</td>\n",
       "      <td>2.596891</td>\n",
       "      <td>-0.318812</td>\n",
       "      <td>...</td>\n",
       "      <td>0</td>\n",
       "      <td>0</td>\n",
       "      <td>0</td>\n",
       "      <td>1</td>\n",
       "      <td>0</td>\n",
       "      <td>0</td>\n",
       "      <td>1</td>\n",
       "      <td>0</td>\n",
       "      <td>0</td>\n",
       "      <td>1</td>\n",
       "    </tr>\n",
       "    <tr>\n",
       "      <th>3</th>\n",
       "      <td>0.753104</td>\n",
       "      <td>1.543712</td>\n",
       "      <td>0.801873</td>\n",
       "      <td>0.0</td>\n",
       "      <td>0.0</td>\n",
       "      <td>-0.880080</td>\n",
       "      <td>-1.709887</td>\n",
       "      <td>2.403955</td>\n",
       "      <td>2.596891</td>\n",
       "      <td>0.279070</td>\n",
       "      <td>...</td>\n",
       "      <td>0</td>\n",
       "      <td>0</td>\n",
       "      <td>0</td>\n",
       "      <td>1</td>\n",
       "      <td>0</td>\n",
       "      <td>0</td>\n",
       "      <td>1</td>\n",
       "      <td>1</td>\n",
       "      <td>0</td>\n",
       "      <td>0</td>\n",
       "    </tr>\n",
       "    <tr>\n",
       "      <th>4</th>\n",
       "      <td>-0.013717</td>\n",
       "      <td>-1.631231</td>\n",
       "      <td>-1.675400</td>\n",
       "      <td>2.0</td>\n",
       "      <td>1.0</td>\n",
       "      <td>3.100821</td>\n",
       "      <td>1.762560</td>\n",
       "      <td>0.231732</td>\n",
       "      <td>-0.441471</td>\n",
       "      <td>-0.892736</td>\n",
       "      <td>...</td>\n",
       "      <td>1</td>\n",
       "      <td>0</td>\n",
       "      <td>0</td>\n",
       "      <td>0</td>\n",
       "      <td>1</td>\n",
       "      <td>0</td>\n",
       "      <td>0</td>\n",
       "      <td>0</td>\n",
       "      <td>0</td>\n",
       "      <td>0</td>\n",
       "    </tr>\n",
       "  </tbody>\n",
       "</table>\n",
       "<p>5 rows × 53 columns</p>\n",
       "</div>"
      ],
      "text/plain": [
       "   donor_age  recipient_age  recipient_body_mass  antigen  allel  \\\n",
       "0  -1.289981      -0.062658             0.099054      0.0    0.0   \n",
       "1  -1.227878      -1.120972            -0.739077      0.0    0.0   \n",
       "2  -0.857918      -0.629612            -0.557357      0.0    0.0   \n",
       "3   0.753104       1.543712             0.801873      0.0    0.0   \n",
       "4  -0.013717      -1.631231            -1.675400      2.0    1.0   \n",
       "\n",
       "   CD34_x1e6_per_kg  CD3_x1e8_per_kg  CD3_to_CD34_ratio  ANC_recovery  \\\n",
       "0         -0.398474         0.376079          -0.946900      1.246508   \n",
       "1         -0.833782        -1.424497           1.343242      0.233720   \n",
       "2         -0.294272        -1.416174           1.928605      2.596891   \n",
       "3         -0.880080        -1.709887           2.403955      2.596891   \n",
       "4          3.100821         1.762560           0.231732     -0.441471   \n",
       "\n",
       "   PLT_recovery  ...  HLA_group_1_one_antigen  HLA_group_1_three_diffs  \\\n",
       "0      1.187452  ...                        0                        0   \n",
       "1      0.671081  ...                        0                        0   \n",
       "2     -0.318812  ...                        0                        0   \n",
       "3      0.279070  ...                        0                        0   \n",
       "4     -0.892736  ...                        1                        0   \n",
       "\n",
       "   HLA_group_1_two_diffs  risk_group_low  stem_cell_source_peripheral_blood  \\\n",
       "0                      0               0                                  1   \n",
       "1                      0               1                                  0   \n",
       "2                      0               1                                  0   \n",
       "3                      0               1                                  0   \n",
       "4                      0               0                                  1   \n",
       "\n",
       "   tx_post_relapse_yes  acute_GvHD_II_III_IV_yes  acute_GvHD_III_IV_yes  \\\n",
       "0                    0                         1                      1   \n",
       "1                    0                         1                      0   \n",
       "2                    0                         1                      0   \n",
       "3                    0                         1                      1   \n",
       "4                    0                         0                      0   \n",
       "\n",
       "   extensive_chronic_GvHD_yes  relapse_yes  \n",
       "0                           0            0  \n",
       "1                           0            1  \n",
       "2                           0            1  \n",
       "3                           0            0  \n",
       "4                           0            0  \n",
       "\n",
       "[5 rows x 53 columns]"
      ]
     },
     "execution_count": 3,
     "metadata": {},
     "output_type": "execute_result"
    }
   ],
   "source": [
    "df.head()"
   ]
  },
  {
   "cell_type": "code",
   "execution_count": 4,
   "id": "c055cfb8",
   "metadata": {},
   "outputs": [
    {
     "data": {
      "text/html": [
       "<div>\n",
       "<style scoped>\n",
       "    .dataframe tbody tr th:only-of-type {\n",
       "        vertical-align: middle;\n",
       "    }\n",
       "\n",
       "    .dataframe tbody tr th {\n",
       "        vertical-align: top;\n",
       "    }\n",
       "\n",
       "    .dataframe thead th {\n",
       "        text-align: right;\n",
       "    }\n",
       "</style>\n",
       "<table border=\"1\" class=\"dataframe\">\n",
       "  <thead>\n",
       "    <tr style=\"text-align: right;\">\n",
       "      <th></th>\n",
       "      <th>recipient_age</th>\n",
       "      <th>recipient_body_mass</th>\n",
       "      <th>CD34_x1e6_per_kg</th>\n",
       "      <th>CD3_x1e8_per_kg</th>\n",
       "      <th>survival_time</th>\n",
       "      <th>donor_age_below_35_yes</th>\n",
       "      <th>donor_ABO_A</th>\n",
       "      <th>recipient_rh_plus</th>\n",
       "      <th>disease_lymphoma</th>\n",
       "      <th>HLA_group_1_three_diffs</th>\n",
       "      <th>risk_group_low</th>\n",
       "      <th>stem_cell_source_peripheral_blood</th>\n",
       "      <th>acute_GvHD_III_IV_yes</th>\n",
       "      <th>extensive_chronic_GvHD_yes</th>\n",
       "      <th>relapse_yes</th>\n",
       "    </tr>\n",
       "  </thead>\n",
       "  <tbody>\n",
       "    <tr>\n",
       "      <th>0</th>\n",
       "      <td>-0.062658</td>\n",
       "      <td>0.099054</td>\n",
       "      <td>-0.398474</td>\n",
       "      <td>0.376079</td>\n",
       "      <td>0.323944</td>\n",
       "      <td>1</td>\n",
       "      <td>1</td>\n",
       "      <td>1</td>\n",
       "      <td>0</td>\n",
       "      <td>0</td>\n",
       "      <td>0</td>\n",
       "      <td>1</td>\n",
       "      <td>1</td>\n",
       "      <td>0</td>\n",
       "      <td>0</td>\n",
       "    </tr>\n",
       "    <tr>\n",
       "      <th>1</th>\n",
       "      <td>-1.120972</td>\n",
       "      <td>-0.739077</td>\n",
       "      <td>-0.833782</td>\n",
       "      <td>-1.424497</td>\n",
       "      <td>-0.943526</td>\n",
       "      <td>1</td>\n",
       "      <td>0</td>\n",
       "      <td>1</td>\n",
       "      <td>0</td>\n",
       "      <td>0</td>\n",
       "      <td>1</td>\n",
       "      <td>0</td>\n",
       "      <td>0</td>\n",
       "      <td>0</td>\n",
       "      <td>1</td>\n",
       "    </tr>\n",
       "    <tr>\n",
       "      <th>2</th>\n",
       "      <td>-0.629612</td>\n",
       "      <td>-0.557357</td>\n",
       "      <td>-0.294272</td>\n",
       "      <td>-1.416174</td>\n",
       "      <td>-0.399295</td>\n",
       "      <td>1</td>\n",
       "      <td>0</td>\n",
       "      <td>1</td>\n",
       "      <td>0</td>\n",
       "      <td>0</td>\n",
       "      <td>1</td>\n",
       "      <td>0</td>\n",
       "      <td>0</td>\n",
       "      <td>0</td>\n",
       "      <td>1</td>\n",
       "    </tr>\n",
       "    <tr>\n",
       "      <th>3</th>\n",
       "      <td>1.543712</td>\n",
       "      <td>0.801873</td>\n",
       "      <td>-0.880080</td>\n",
       "      <td>-1.709887</td>\n",
       "      <td>-1.312673</td>\n",
       "      <td>0</td>\n",
       "      <td>1</td>\n",
       "      <td>1</td>\n",
       "      <td>0</td>\n",
       "      <td>0</td>\n",
       "      <td>1</td>\n",
       "      <td>0</td>\n",
       "      <td>1</td>\n",
       "      <td>0</td>\n",
       "      <td>0</td>\n",
       "    </tr>\n",
       "    <tr>\n",
       "      <th>4</th>\n",
       "      <td>-1.631231</td>\n",
       "      <td>-1.675400</td>\n",
       "      <td>3.100821</td>\n",
       "      <td>1.762560</td>\n",
       "      <td>1.238402</td>\n",
       "      <td>1</td>\n",
       "      <td>1</td>\n",
       "      <td>0</td>\n",
       "      <td>0</td>\n",
       "      <td>0</td>\n",
       "      <td>0</td>\n",
       "      <td>1</td>\n",
       "      <td>0</td>\n",
       "      <td>0</td>\n",
       "      <td>0</td>\n",
       "    </tr>\n",
       "  </tbody>\n",
       "</table>\n",
       "</div>"
      ],
      "text/plain": [
       "   recipient_age  recipient_body_mass  CD34_x1e6_per_kg  CD3_x1e8_per_kg  \\\n",
       "0      -0.062658             0.099054         -0.398474         0.376079   \n",
       "1      -1.120972            -0.739077         -0.833782        -1.424497   \n",
       "2      -0.629612            -0.557357         -0.294272        -1.416174   \n",
       "3       1.543712             0.801873         -0.880080        -1.709887   \n",
       "4      -1.631231            -1.675400          3.100821         1.762560   \n",
       "\n",
       "   survival_time  donor_age_below_35_yes  donor_ABO_A  recipient_rh_plus  \\\n",
       "0       0.323944                       1            1                  1   \n",
       "1      -0.943526                       1            0                  1   \n",
       "2      -0.399295                       1            0                  1   \n",
       "3      -1.312673                       0            1                  1   \n",
       "4       1.238402                       1            1                  0   \n",
       "\n",
       "   disease_lymphoma  HLA_group_1_three_diffs  risk_group_low  \\\n",
       "0                 0                        0               0   \n",
       "1                 0                        0               1   \n",
       "2                 0                        0               1   \n",
       "3                 0                        0               1   \n",
       "4                 0                        0               0   \n",
       "\n",
       "   stem_cell_source_peripheral_blood  acute_GvHD_III_IV_yes  \\\n",
       "0                                  1                      1   \n",
       "1                                  0                      0   \n",
       "2                                  0                      0   \n",
       "3                                  0                      1   \n",
       "4                                  1                      0   \n",
       "\n",
       "   extensive_chronic_GvHD_yes  relapse_yes  \n",
       "0                           0            0  \n",
       "1                           0            1  \n",
       "2                           0            1  \n",
       "3                           0            0  \n",
       "4                           0            0  "
      ]
     },
     "execution_count": 4,
     "metadata": {},
     "output_type": "execute_result"
    }
   ],
   "source": [
    "red_df.head()"
   ]
  },
  {
   "cell_type": "code",
   "execution_count": 5,
   "id": "f776097d",
   "metadata": {},
   "outputs": [],
   "source": [
    "# split columns into features (X) & result (y)\n",
    "X = df.drop('survival_status', axis = 1)\n",
    "y = df['survival_status']"
   ]
  },
  {
   "cell_type": "code",
   "execution_count": 6,
   "id": "fd02360e",
   "metadata": {},
   "outputs": [],
   "source": [
    "from sklearn.model_selection import train_test_split"
   ]
  },
  {
   "cell_type": "code",
   "execution_count": 7,
   "id": "910eeef1",
   "metadata": {},
   "outputs": [],
   "source": [
    "# split train and test data for both datasets\n",
    "\n",
    "# full dataset\n",
    "X_train,X_test,y_train,y_test = train_test_split(X, y, train_size=.8)\n",
    "\n",
    "# reduced dataset\n",
    "red_X_train, red_X_test, red_y_train, red_y_test = train_test_split(red_df, y, train_size=.8)"
   ]
  },
  {
   "cell_type": "markdown",
   "id": "dfd65a50",
   "metadata": {},
   "source": [
    "## Building  Predictive Models"
   ]
  },
  {
   "cell_type": "markdown",
   "id": "d0d9f6a8",
   "metadata": {},
   "source": [
    "In order to judge the performance of the models, both accuracy and recall will be looked at. In this context, recall is especially important since we are interested in identifying the highest possible number truly positive (did not survive) cases."
   ]
  },
  {
   "cell_type": "code",
   "execution_count": 107,
   "id": "5cec5c8f",
   "metadata": {},
   "outputs": [],
   "source": [
    "from sklearn.metrics import roc_curve\n",
    "from sklearn.metrics import roc_auc_score\n",
    "\n",
    "import matplotlib.pyplot as plt\n",
    "plt.style.use('seaborn')"
   ]
  },
  {
   "cell_type": "markdown",
   "id": "2b4e7d3f",
   "metadata": {},
   "source": [
    "### Logistic Regression"
   ]
  },
  {
   "cell_type": "code",
   "execution_count": 8,
   "id": "a047406c",
   "metadata": {},
   "outputs": [],
   "source": [
    "from sklearn.linear_model import LogisticRegression\n",
    "from sklearn.model_selection import GridSearchCV\n",
    "from sklearn.model_selection import cross_val_score"
   ]
  },
  {
   "cell_type": "markdown",
   "id": "4a17b1cc",
   "metadata": {},
   "source": [
    "**Using Full Dataset**"
   ]
  },
  {
   "cell_type": "markdown",
   "id": "35287af7",
   "metadata": {},
   "source": [
    "L1 Regularization"
   ]
  },
  {
   "cell_type": "code",
   "execution_count": 101,
   "id": "d36a27ee",
   "metadata": {
    "scrolled": true
   },
   "outputs": [],
   "source": [
    "%%capture\n",
    "\n",
    "# parameters of logistic regression model\n",
    "params = {'C':[0.5, 0.55, 0.6],\n",
    "          'solver':['liblinear','saga']}\n",
    "\n",
    "# grid search\n",
    "gscv = GridSearchCV(LogisticRegression(penalty='l1', max_iter=300),\n",
    "                    param_grid=params,\n",
    "                    cv=5,\n",
    "                    scoring='recall',\n",
    "                    refit=True)\n",
    "\n",
    "# fit mdodel with full dataset\n",
    "gscv.fit(X_train, y_train)"
   ]
  },
  {
   "cell_type": "code",
   "execution_count": 102,
   "id": "3d72ceeb",
   "metadata": {},
   "outputs": [
    {
     "name": "stdout",
     "output_type": "stream",
     "text": [
      "{'C': 0.55, 'solver': 'liblinear'}\n"
     ]
    }
   ],
   "source": [
    "# what are the parameters of the best model?\n",
    "print(gscv.best_params_)"
   ]
  },
  {
   "cell_type": "code",
   "execution_count": 103,
   "id": "a1c83fc2",
   "metadata": {
    "scrolled": true
   },
   "outputs": [
    {
     "name": "stdout",
     "output_type": "stream",
     "text": [
      "accuracy: 0.92 +- 0.20\n",
      "recall: 1.00 +- 0.00\n"
     ]
    }
   ],
   "source": [
    "# cross-val score of the best model\n",
    "scores = cross_val_score(gscv.best_estimator_,X_test,y_test,cv=5)\n",
    "rc_scores = cross_val_score(gscv.best_estimator_,X_test,y_test,cv=5, scoring='recall')\n",
    "\n",
    "print(f'accuracy: {np.mean(scores):0.2f} +- {2*np.std(scores):0.2f}')\n",
    "print(f'recall: {np.mean(rc_scores):0.2f} +- {2*np.std(rc_scores):0.2f}')"
   ]
  },
  {
   "cell_type": "code",
   "execution_count": 104,
   "id": "e904675c",
   "metadata": {},
   "outputs": [],
   "source": [
    "# predict probabilities for ROC curve\n",
    "full_lr_l1 = gscv.best_estimator_.predict_proba(X_test)\n",
    "\n",
    "fpr1, tpr1, thresh1 = roc_curve(y_test, full_lr_l1[:,1], pos_label=1)"
   ]
  },
  {
   "cell_type": "markdown",
   "id": "b4072d3a",
   "metadata": {},
   "source": [
    "L2 Regularization"
   ]
  },
  {
   "cell_type": "code",
   "execution_count": 27,
   "id": "2e6995f2",
   "metadata": {},
   "outputs": [],
   "source": [
    "%%capture\n",
    "\n",
    "# parameters of logistic regression model\n",
    "params = {'C':[0.01, 0.05, 0.1],\n",
    "          'solver':['liblinear','saga']}\n",
    "\n",
    "# grid search\n",
    "gscv = GridSearchCV(LogisticRegression(penalty='l2', max_iter=300),\n",
    "                    param_grid=params,\n",
    "                    cv=5,\n",
    "                    scoring='recall',\n",
    "                    refit=True)\n",
    "\n",
    "# fit mdodel with full dataset\n",
    "gscv.fit(X_train, y_train)"
   ]
  },
  {
   "cell_type": "code",
   "execution_count": 28,
   "id": "734165d9",
   "metadata": {},
   "outputs": [
    {
     "name": "stdout",
     "output_type": "stream",
     "text": [
      "{'C': 0.05, 'solver': 'liblinear'}\n"
     ]
    }
   ],
   "source": [
    "# what are the parameters of the best model?\n",
    "print(gscv.best_params_)"
   ]
  },
  {
   "cell_type": "code",
   "execution_count": 29,
   "id": "7338e947",
   "metadata": {},
   "outputs": [
    {
     "name": "stdout",
     "output_type": "stream",
     "text": [
      "accuracy: 0.84 +- 0.20\n",
      "recall: 0.77 +- 0.40\n"
     ]
    }
   ],
   "source": [
    "# cross-val score of the best model\n",
    "scores = cross_val_score(gscv.best_estimator_,X_test,y_test,cv=5)\n",
    "rc_scores = cross_val_score(gscv.best_estimator_,X_test,y_test,cv=5, scoring='recall')\n",
    "\n",
    "print(f'accuracy: {np.mean(scores):0.2f} +- {2*np.std(scores):0.2f}')\n",
    "print(f'recall: {np.mean(rc_scores):0.2f} +- {2*np.std(rc_scores):0.2f}')"
   ]
  },
  {
   "cell_type": "markdown",
   "id": "37cbd61f",
   "metadata": {},
   "source": [
    "ElasticNet"
   ]
  },
  {
   "cell_type": "code",
   "execution_count": 36,
   "id": "030591ca",
   "metadata": {},
   "outputs": [],
   "source": [
    "%%capture\n",
    "\n",
    "# parameters of logistic regression model\n",
    "params = {'C':[0.6, 0.7, 0.75],\n",
    "          'l1_ratio':[0.6, 0.7, 0.75]}\n",
    "\n",
    "# grid search\n",
    "gscv = GridSearchCV(LogisticRegression(penalty='elasticnet', solver='saga', max_iter=1000),\n",
    "                    param_grid=params,\n",
    "                    cv=5,\n",
    "                    scoring='recall',\n",
    "                    refit=True)\n",
    "\n",
    "# fit mdodel with full dataset\n",
    "gscv.fit(X_train, y_train)"
   ]
  },
  {
   "cell_type": "code",
   "execution_count": 37,
   "id": "68b684ce",
   "metadata": {},
   "outputs": [
    {
     "name": "stdout",
     "output_type": "stream",
     "text": [
      "{'C': 0.7, 'l1_ratio': 0.7}\n"
     ]
    }
   ],
   "source": [
    "# what are the parameters of the best model?\n",
    "print(gscv.best_params_)"
   ]
  },
  {
   "cell_type": "code",
   "execution_count": 38,
   "id": "81c9233e",
   "metadata": {},
   "outputs": [
    {
     "name": "stdout",
     "output_type": "stream",
     "text": [
      "accuracy: 0.86 +- 0.26\n",
      "recall: 0.80 +- 0.53\n"
     ]
    }
   ],
   "source": [
    "# cross-val score of the best model\n",
    "scores = cross_val_score(gscv.best_estimator_,X_test,y_test,cv=5)\n",
    "rc_scores = cross_val_score(gscv.best_estimator_,X_test,y_test,cv=5, scoring='recall')\n",
    "\n",
    "print(f'accuracy: {np.mean(scores):0.2f} +- {2*np.std(scores):0.2f}')\n",
    "print(f'recall: {np.mean(rc_scores):0.2f} +- {2*np.std(rc_scores):0.2f}')"
   ]
  },
  {
   "cell_type": "markdown",
   "id": "0d242c33",
   "metadata": {},
   "source": [
    "**Using Reduced Dataset**"
   ]
  },
  {
   "cell_type": "markdown",
   "id": "9e022b29",
   "metadata": {},
   "source": [
    "L1 Regularization"
   ]
  },
  {
   "cell_type": "code",
   "execution_count": 116,
   "id": "7d757415",
   "metadata": {},
   "outputs": [],
   "source": [
    "%%capture\n",
    "\n",
    "# parameters of logistic regression model\n",
    "params = {'C':[0.7, 0.8, 1.0],\n",
    "          'solver':['liblinear','saga']}\n",
    "\n",
    "# grid search\n",
    "gscv = GridSearchCV(LogisticRegression(penalty='l1', max_iter=300),\n",
    "                    param_grid=params,\n",
    "                    cv=5,\n",
    "                    scoring='recall',\n",
    "                    refit=True)\n",
    "\n",
    "# fit mdodel with full dataset\n",
    "gscv.fit(red_X_train, red_y_train)"
   ]
  },
  {
   "cell_type": "code",
   "execution_count": 117,
   "id": "07ed0abb",
   "metadata": {},
   "outputs": [
    {
     "name": "stdout",
     "output_type": "stream",
     "text": [
      "{'C': 0.8, 'solver': 'liblinear'}\n"
     ]
    }
   ],
   "source": [
    "# what are the parameters of the best model?\n",
    "print(gscv.best_params_)"
   ]
  },
  {
   "cell_type": "code",
   "execution_count": 118,
   "id": "07254b06",
   "metadata": {},
   "outputs": [
    {
     "name": "stdout",
     "output_type": "stream",
     "text": [
      "accuracy: 0.92 +- 0.20\n",
      "recall: 0.95 +- 0.20\n"
     ]
    }
   ],
   "source": [
    "# cross-val score of the best model\n",
    "scores = cross_val_score(gscv.best_estimator_,red_X_test,red_y_test,cv=5)\n",
    "rc_scores = cross_val_score(gscv.best_estimator_,red_X_test,red_y_test,cv=5, scoring='recall')\n",
    "\n",
    "print(f'accuracy: {np.mean(scores):0.2f} +- {2*np.std(scores):0.2f}')\n",
    "print(f'recall: {np.mean(rc_scores):0.2f} +- {2*np.std(rc_scores):0.2f}')"
   ]
  },
  {
   "cell_type": "code",
   "execution_count": 120,
   "id": "4d337ab1",
   "metadata": {},
   "outputs": [],
   "source": [
    "# predict probabilities for ROC curve\n",
    "red_lr_l1 = gscv.best_estimator_.predict_proba(red_X_test)\n",
    "\n",
    "fpr2, tpr2, thresh2 = roc_curve(red_y_test, red_lr_l1[:,1], pos_label=1)"
   ]
  },
  {
   "cell_type": "markdown",
   "id": "b022f116",
   "metadata": {},
   "source": [
    "L2 Regularization"
   ]
  },
  {
   "cell_type": "code",
   "execution_count": 48,
   "id": "5b65bd00",
   "metadata": {},
   "outputs": [],
   "source": [
    "%%capture\n",
    "\n",
    "# parameters of logistic regression model\n",
    "params = {'C':[0.01, 0.05, 0.07],\n",
    "          'solver':['liblinear','saga']}\n",
    "\n",
    "# grid search\n",
    "gscv = GridSearchCV(LogisticRegression(penalty='l2', max_iter=300),\n",
    "                    param_grid=params,\n",
    "                    cv=5,\n",
    "                    scoring='recall',\n",
    "                    refit=True)\n",
    "\n",
    "# fit mdodel with full dataset\n",
    "gscv.fit(red_X_train, red_y_train)"
   ]
  },
  {
   "cell_type": "code",
   "execution_count": 49,
   "id": "2b99501f",
   "metadata": {},
   "outputs": [
    {
     "name": "stdout",
     "output_type": "stream",
     "text": [
      "{'C': 0.05, 'solver': 'liblinear'}\n"
     ]
    }
   ],
   "source": [
    "# what are the parameters of the best model?\n",
    "print(gscv.best_params_)"
   ]
  },
  {
   "cell_type": "code",
   "execution_count": 50,
   "id": "40e6bed7",
   "metadata": {},
   "outputs": [
    {
     "name": "stdout",
     "output_type": "stream",
     "text": [
      "accuracy: 0.87 +- 0.16\n",
      "recall: 1.00 +- 0.00\n"
     ]
    }
   ],
   "source": [
    "# cross-val score of the best model\n",
    "scores = cross_val_score(gscv.best_estimator_,red_X_test,red_y_test,cv=5)\n",
    "rc_scores = cross_val_score(gscv.best_estimator_,red_X_test,red_y_test,cv=5, scoring='recall')\n",
    "\n",
    "print(f'accuracy: {np.mean(scores):0.2f} +- {2*np.std(scores):0.2f}')\n",
    "print(f'recall: {np.mean(rc_scores):0.2f} +- {2*np.std(rc_scores):0.2f}')"
   ]
  },
  {
   "cell_type": "code",
   "execution_count": 121,
   "id": "104c44a6",
   "metadata": {},
   "outputs": [],
   "source": [
    "# predict probabilities for ROC curve\n",
    "red_lr_l2 = gscv.best_estimator_.predict_proba(red_X_test)\n",
    "\n",
    "fpr3, tpr3, thresh3 = roc_curve(red_y_test, red_lr_l2[:,1], pos_label=1)"
   ]
  },
  {
   "cell_type": "markdown",
   "id": "91e5874a",
   "metadata": {},
   "source": [
    "ElasticNet"
   ]
  },
  {
   "cell_type": "code",
   "execution_count": 122,
   "id": "265763b0",
   "metadata": {},
   "outputs": [],
   "source": [
    "%%capture\n",
    "\n",
    "# parameters of logistic regression model\n",
    "params = {'C':[0.9, 0.95, 1.0],\n",
    "          'l1_ratio':[0.9, 0.95, 1.0]}\n",
    "\n",
    "# grid search\n",
    "gscv = GridSearchCV(LogisticRegression(penalty='elasticnet', solver='saga', max_iter=1000),\n",
    "                    param_grid=params,\n",
    "                    cv=5,\n",
    "                    scoring='recall',\n",
    "                    refit=True)\n",
    "\n",
    "# fit mdodel with full dataset\n",
    "gscv.fit(red_X_train, red_y_train)"
   ]
  },
  {
   "cell_type": "code",
   "execution_count": 123,
   "id": "03863790",
   "metadata": {},
   "outputs": [
    {
     "name": "stdout",
     "output_type": "stream",
     "text": [
      "{'C': 0.95, 'l1_ratio': 1.0}\n"
     ]
    }
   ],
   "source": [
    "# what are the parameters of the best model?\n",
    "print(gscv.best_params_)"
   ]
  },
  {
   "cell_type": "code",
   "execution_count": 124,
   "id": "a5a0513d",
   "metadata": {
    "scrolled": true
   },
   "outputs": [
    {
     "name": "stdout",
     "output_type": "stream",
     "text": [
      "accuracy: 0.90 +- 0.19\n",
      "recall: 0.90 +- 0.24\n"
     ]
    }
   ],
   "source": [
    "# cross-val score of the best model\n",
    "scores = cross_val_score(gscv.best_estimator_,red_X_test,red_y_test,cv=5)\n",
    "rc_scores = cross_val_score(gscv.best_estimator_,red_X_test,red_y_test,cv=5, scoring='recall')\n",
    "\n",
    "print(f'accuracy: {np.mean(scores):0.2f} +- {2*np.std(scores):0.2f}')\n",
    "print(f'recall: {np.mean(rc_scores):0.2f} +- {2*np.std(rc_scores):0.2f}')"
   ]
  },
  {
   "cell_type": "code",
   "execution_count": 125,
   "id": "e5748056",
   "metadata": {},
   "outputs": [],
   "source": [
    "# predict probabilities for ROC curve\n",
    "red_lr_en = gscv.best_estimator_.predict_proba(red_X_test)\n",
    "\n",
    "fpr4, tpr4, thresh4 = roc_curve(red_y_test, red_lr_en[:,1], pos_label=1)"
   ]
  },
  {
   "cell_type": "markdown",
   "id": "b644675a",
   "metadata": {},
   "source": [
    "### Decison Tree Classifier (DTC)"
   ]
  },
  {
   "cell_type": "code",
   "execution_count": 59,
   "id": "52e90f7f",
   "metadata": {},
   "outputs": [],
   "source": [
    "from sklearn.tree import DecisionTreeClassifier"
   ]
  },
  {
   "cell_type": "markdown",
   "id": "0f218fb3",
   "metadata": {},
   "source": [
    "**Using Full Dataset**"
   ]
  },
  {
   "cell_type": "code",
   "execution_count": 64,
   "id": "7d3c71ca",
   "metadata": {},
   "outputs": [],
   "source": [
    "%%capture\n",
    "\n",
    "# parameters of dtc model\n",
    "params = {'criterion':['gini', 'entropy', 'log_loss'],\n",
    "          'splitter':['best', 'random'],\n",
    "          'max_depth':[None, 4, 5, 6]}\n",
    "\n",
    "# grid search\n",
    "gscv = GridSearchCV(DecisionTreeClassifier(),\n",
    "                    param_grid=params,\n",
    "                    cv=5,\n",
    "                    scoring='recall',\n",
    "                    refit=True)\n",
    "\n",
    "# fit mdodel with full dataset\n",
    "gscv.fit(X_train, y_train)"
   ]
  },
  {
   "cell_type": "code",
   "execution_count": 65,
   "id": "8437490e",
   "metadata": {},
   "outputs": [
    {
     "name": "stdout",
     "output_type": "stream",
     "text": [
      "{'criterion': 'log_loss', 'max_depth': 5, 'splitter': 'random'}\n"
     ]
    }
   ],
   "source": [
    "# what are the parameters of the best model?\n",
    "print(gscv.best_params_)"
   ]
  },
  {
   "cell_type": "code",
   "execution_count": 66,
   "id": "86a1d9df",
   "metadata": {},
   "outputs": [
    {
     "name": "stdout",
     "output_type": "stream",
     "text": [
      "accuracy: 0.71 +- 0.37\n",
      "recall: 0.70 +- 0.53\n"
     ]
    }
   ],
   "source": [
    "# cross-val score of the best model\n",
    "scores = cross_val_score(gscv.best_estimator_,X_test,y_test,cv=5)\n",
    "rc_scores = cross_val_score(gscv.best_estimator_,X_test,y_test,cv=5, scoring='recall')\n",
    "\n",
    "print(f'accuracy: {np.mean(scores):0.2f} +- {2*np.std(scores):0.2f}')\n",
    "print(f'recall: {np.mean(rc_scores):0.2f} +- {2*np.std(rc_scores):0.2f}')"
   ]
  },
  {
   "cell_type": "markdown",
   "id": "889893eb",
   "metadata": {},
   "source": [
    "**Using Reduced Dataset**"
   ]
  },
  {
   "cell_type": "code",
   "execution_count": 68,
   "id": "162eccb8",
   "metadata": {},
   "outputs": [],
   "source": [
    "%%capture\n",
    "\n",
    "# parameters of dtc model\n",
    "params = {'criterion':['gini', 'entropy', 'log_loss'],\n",
    "          'splitter':['best', 'random'],\n",
    "          'max_depth':[None, 3, 4, 5, 6]}\n",
    "\n",
    "# grid search\n",
    "gscv = GridSearchCV(DecisionTreeClassifier(),\n",
    "                    param_grid=params,\n",
    "                    cv=5,\n",
    "                    scoring='recall',\n",
    "                    refit=True)\n",
    "\n",
    "# fit mdodel with full dataset\n",
    "gscv.fit(red_X_train, red_y_train)"
   ]
  },
  {
   "cell_type": "code",
   "execution_count": 69,
   "id": "d96b5f37",
   "metadata": {},
   "outputs": [
    {
     "name": "stdout",
     "output_type": "stream",
     "text": [
      "{'criterion': 'gini', 'max_depth': None, 'splitter': 'random'}\n"
     ]
    }
   ],
   "source": [
    "# what are the parameters of the best model?\n",
    "print(gscv.best_params_)"
   ]
  },
  {
   "cell_type": "code",
   "execution_count": 70,
   "id": "6c44ce2e",
   "metadata": {},
   "outputs": [
    {
     "name": "stdout",
     "output_type": "stream",
     "text": [
      "accuracy: 0.82 +- 0.11\n",
      "recall: 0.80 +- 0.20\n"
     ]
    }
   ],
   "source": [
    "# cross-val score of the best model\n",
    "scores = cross_val_score(gscv.best_estimator_,red_X_test,red_y_test,cv=5)\n",
    "rc_scores = cross_val_score(gscv.best_estimator_,red_X_test,red_y_test,cv=5, scoring='recall')\n",
    "\n",
    "print(f'accuracy: {np.mean(scores):0.2f} +- {2*np.std(scores):0.2f}')\n",
    "print(f'recall: {np.mean(rc_scores):0.2f} +- {2*np.std(rc_scores):0.2f}')"
   ]
  },
  {
   "cell_type": "markdown",
   "id": "d03b4303",
   "metadata": {},
   "source": [
    "### Random Forest Classifier"
   ]
  },
  {
   "cell_type": "code",
   "execution_count": 71,
   "id": "0a4f8351",
   "metadata": {},
   "outputs": [],
   "source": [
    "from sklearn.ensemble import RandomForestClassifier"
   ]
  },
  {
   "cell_type": "markdown",
   "id": "f750b137",
   "metadata": {},
   "source": [
    "**Using Full Dataset**"
   ]
  },
  {
   "cell_type": "code",
   "execution_count": 72,
   "id": "23267803",
   "metadata": {},
   "outputs": [],
   "source": [
    "%%capture\n",
    "\n",
    "# parameters of rfc model\n",
    "params = {'n_estimators':[70, 100, 150],\n",
    "          'criterion':['gini', 'entropy', 'log_loss'],\n",
    "          'max_depth':[None, 4, 6, 8]}\n",
    "\n",
    "# grid search\n",
    "gscv = GridSearchCV(RandomForestClassifier(n_jobs=-1),\n",
    "                    param_grid=params,\n",
    "                    cv=5,\n",
    "                    scoring='recall',\n",
    "                    refit=True)\n",
    "\n",
    "# fit mdodel with full dataset\n",
    "gscv.fit(X_train, y_train)"
   ]
  },
  {
   "cell_type": "code",
   "execution_count": 73,
   "id": "f13f7e06",
   "metadata": {},
   "outputs": [
    {
     "name": "stdout",
     "output_type": "stream",
     "text": [
      "{'criterion': 'entropy', 'max_depth': None, 'n_estimators': 100}\n"
     ]
    }
   ],
   "source": [
    "# what are the parameters of the best model?\n",
    "print(gscv.best_params_)"
   ]
  },
  {
   "cell_type": "code",
   "execution_count": 74,
   "id": "76e23e5d",
   "metadata": {},
   "outputs": [
    {
     "name": "stdout",
     "output_type": "stream",
     "text": [
      "accuracy: 0.86 +- 0.24\n",
      "recall: 0.83 +- 0.42\n"
     ]
    }
   ],
   "source": [
    "# cross-val score of the best model\n",
    "scores = cross_val_score(gscv.best_estimator_,X_test,y_test,cv=5)\n",
    "rc_scores = cross_val_score(gscv.best_estimator_,X_test,y_test,cv=5, scoring='recall')\n",
    "\n",
    "print(f'accuracy: {np.mean(scores):0.2f} +- {2*np.std(scores):0.2f}')\n",
    "print(f'recall: {np.mean(rc_scores):0.2f} +- {2*np.std(rc_scores):0.2f}')"
   ]
  },
  {
   "cell_type": "markdown",
   "id": "e6567298",
   "metadata": {},
   "source": [
    "**Using Reduced Dataset**"
   ]
  },
  {
   "cell_type": "code",
   "execution_count": 126,
   "id": "e230568a",
   "metadata": {},
   "outputs": [],
   "source": [
    "%%capture\n",
    "\n",
    "# parameters of rfc model\n",
    "params = {'n_estimators':[50, 70, 100],\n",
    "          'criterion':['gini', 'entropy', 'log_loss'],\n",
    "          'max_depth':[None, 4, 6, 8]}\n",
    "\n",
    "# grid search\n",
    "gscv = GridSearchCV(RandomForestClassifier(n_jobs=-1),\n",
    "                    param_grid=params,\n",
    "                    cv=5,\n",
    "                    scoring='recall',\n",
    "                    refit=True)\n",
    "\n",
    "# fit mdodel with full dataset\n",
    "gscv.fit(red_X_train, red_y_train)"
   ]
  },
  {
   "cell_type": "code",
   "execution_count": 127,
   "id": "c0b227e3",
   "metadata": {},
   "outputs": [
    {
     "name": "stdout",
     "output_type": "stream",
     "text": [
      "{'criterion': 'gini', 'max_depth': 6, 'n_estimators': 50}\n"
     ]
    }
   ],
   "source": [
    "# what are the parameters of the best model?\n",
    "print(gscv.best_params_)"
   ]
  },
  {
   "cell_type": "code",
   "execution_count": 128,
   "id": "dc5ecd8c",
   "metadata": {
    "scrolled": true
   },
   "outputs": [
    {
     "name": "stdout",
     "output_type": "stream",
     "text": [
      "accuracy: 0.93 +- 0.20\n",
      "recall: 0.85 +- 0.24\n"
     ]
    }
   ],
   "source": [
    "# cross-val score of the best model\n",
    "scores = cross_val_score(gscv.best_estimator_,red_X_test,red_y_test,cv=5)\n",
    "rc_scores = cross_val_score(gscv.best_estimator_,red_X_test,red_y_test,cv=5, scoring='recall')\n",
    "\n",
    "print(f'accuracy: {np.mean(scores):0.2f} +- {2*np.std(scores):0.2f}')\n",
    "print(f'recall: {np.mean(rc_scores):0.2f} +- {2*np.std(rc_scores):0.2f}')"
   ]
  },
  {
   "cell_type": "code",
   "execution_count": 129,
   "id": "8662e7fb",
   "metadata": {},
   "outputs": [],
   "source": [
    "# predict probabilities for ROC curve\n",
    "red_rf = gscv.best_estimator_.predict_proba(red_X_test)\n",
    "\n",
    "fpr5, tpr5, thresh5 = roc_curve(red_y_test, red_rf[:,1], pos_label=1)"
   ]
  },
  {
   "cell_type": "markdown",
   "id": "a20c5d64",
   "metadata": {},
   "source": [
    "### Extreme Gradient Boosting (XGB)"
   ]
  },
  {
   "cell_type": "code",
   "execution_count": 80,
   "id": "502d1698",
   "metadata": {},
   "outputs": [],
   "source": [
    "from xgboost import XGBClassifier"
   ]
  },
  {
   "cell_type": "markdown",
   "id": "8255cf05",
   "metadata": {},
   "source": [
    "**Using Full Dataset**"
   ]
  },
  {
   "cell_type": "code",
   "execution_count": 95,
   "id": "761ad254",
   "metadata": {},
   "outputs": [],
   "source": [
    "%%capture\n",
    "\n",
    "# parameters of xgb model\n",
    "params = {'eta':[0.05, 0.1, 0.2],       # step size shrinkage used in update to prevent overfitting\n",
    "          'gamma':[0.1, 0.5, 0.7],           # minimum loss reduction required to make a further partition on leaf node\n",
    "          'max_depth': [0, 2, 3, 4]}\n",
    "\n",
    "# grid search\n",
    "gscv = GridSearchCV(XGBClassifier(),\n",
    "                    param_grid=params,\n",
    "                    cv=5,\n",
    "                    scoring='recall',\n",
    "                    refit=True)\n",
    "\n",
    "# fit mdodel with full dataset\n",
    "gscv.fit(X_train, y_train)"
   ]
  },
  {
   "cell_type": "code",
   "execution_count": 96,
   "id": "75dc9e12",
   "metadata": {},
   "outputs": [
    {
     "name": "stdout",
     "output_type": "stream",
     "text": [
      "{'eta': 0.1, 'gamma': 0.1, 'max_depth': 2}\n"
     ]
    }
   ],
   "source": [
    "# what are the parameters of the best model?\n",
    "print(gscv.best_params_)"
   ]
  },
  {
   "cell_type": "code",
   "execution_count": 97,
   "id": "50123656",
   "metadata": {},
   "outputs": [
    {
     "name": "stdout",
     "output_type": "stream",
     "text": [
      "accuracy: 0.92 +- 0.13\n",
      "recall: 0.88 +- 0.29\n"
     ]
    }
   ],
   "source": [
    "# cross-val score of the best model\n",
    "scores = cross_val_score(gscv.best_estimator_,X_test,y_test,cv=5)\n",
    "rc_scores = cross_val_score(gscv.best_estimator_,X_test,y_test,cv=5, scoring='recall')\n",
    "\n",
    "print(f'accuracy: {np.mean(scores):0.2f} +- {2*np.std(scores):0.2f}')\n",
    "print(f'recall: {np.mean(rc_scores):0.2f} +- {2*np.std(rc_scores):0.2f}')"
   ]
  },
  {
   "cell_type": "markdown",
   "id": "059100d3",
   "metadata": {},
   "source": [
    "**Using Reduced Dataset**"
   ]
  },
  {
   "cell_type": "code",
   "execution_count": 130,
   "id": "899d5e43",
   "metadata": {},
   "outputs": [],
   "source": [
    "%%capture\n",
    "\n",
    "# parameters of xgb model\n",
    "params = {'eta':[0.05, 0.1, 0.2],\n",
    "          'gamma':[0.5, 1, 1.5],\n",
    "          'max_depth': [0, 2, 3, 4]}\n",
    "\n",
    "# grid search\n",
    "gscv = GridSearchCV(XGBClassifier(),\n",
    "                    param_grid=params,\n",
    "                    cv=5,\n",
    "                    scoring='recall',\n",
    "                    refit=True)\n",
    "\n",
    "# fit mdodel with full dataset\n",
    "gscv.fit(red_X_train, red_y_train)"
   ]
  },
  {
   "cell_type": "code",
   "execution_count": 131,
   "id": "ffa87db3",
   "metadata": {},
   "outputs": [
    {
     "name": "stdout",
     "output_type": "stream",
     "text": [
      "{'eta': 0.05, 'gamma': 0.5, 'max_depth': 2}\n"
     ]
    }
   ],
   "source": [
    "# what are the parameters of the best model?\n",
    "print(gscv.best_params_)"
   ]
  },
  {
   "cell_type": "code",
   "execution_count": 132,
   "id": "e0c3c1c8",
   "metadata": {},
   "outputs": [
    {
     "name": "stdout",
     "output_type": "stream",
     "text": [
      "accuracy: 0.90 +- 0.19\n",
      "recall: 0.90 +- 0.24\n"
     ]
    }
   ],
   "source": [
    "# cross-val score of the best model\n",
    "scores = cross_val_score(gscv.best_estimator_,red_X_test,red_y_test,cv=5)\n",
    "rc_scores = cross_val_score(gscv.best_estimator_,red_X_test,red_y_test,cv=5, scoring='recall')\n",
    "\n",
    "print(f'accuracy: {np.mean(scores):0.2f} +- {2*np.std(scores):0.2f}')\n",
    "print(f'recall: {np.mean(rc_scores):0.2f} +- {2*np.std(rc_scores):0.2f}')"
   ]
  },
  {
   "cell_type": "code",
   "execution_count": 133,
   "id": "b3f3f44c",
   "metadata": {},
   "outputs": [],
   "source": [
    "# predict probabilities for ROC curve\n",
    "red_xgb = gscv.best_estimator_.predict_proba(red_X_test)\n",
    "\n",
    "fpr6, tpr6, thresh6 = roc_curve(red_y_test, red_xgb[:,1], pos_label=1)"
   ]
  },
  {
   "cell_type": "markdown",
   "id": "a23e0ad5",
   "metadata": {},
   "source": [
    "### ROC Curves"
   ]
  },
  {
   "cell_type": "markdown",
   "id": "4632b36b",
   "metadata": {},
   "source": [
    "Let's plot some ROC curves for the classifiers with the highest recall rates (greater or equal to 0.90) in order to evaluate their performances."
   ]
  },
  {
   "cell_type": "code",
   "execution_count": 134,
   "id": "22242078",
   "metadata": {},
   "outputs": [
    {
     "data": {
      "image/png": "[encoded data removed]",
      "text/plain": [
       "<Figure size 800x550 with 1 Axes>"
      ]
     },
     "metadata": {},
     "output_type": "display_data"
    }
   ],
   "source": [
    "plt.plot(fpr1, tpr1, linestyle='--',color='red', label='Logistic Regression with L1 Reg (Full)')\n",
    "plt.plot(fpr2, tpr2, linestyle='--',color='orange', label='Logistic Regression with L1 Reg (Reduced)')\n",
    "plt.plot(fpr3, tpr3, linestyle='--',color='yellow', label='Logistic Regression with L2 Reg (Reduced)')\n",
    "plt.plot(fpr4, tpr4, linestyle='--',color='green', label='Logistic Regression with Elastic Net (Reduced)')\n",
    "plt.plot(fpr5, tpr5, linestyle='--',color='blue', label='Random Forest (Reduced)')\n",
    "plt.plot(fpr6, tpr6, linestyle='--',color='purple', label='XGBoost (Reduced)')\n",
    "\n",
    "plt.title('ROC Curves')\n",
    "plt.xlabel('False Positive Rate')\n",
    "plt.ylabel('True Positive Rate')\n",
    "plt.legend(loc='best');"
   ]
  },
  {
   "cell_type": "markdown",
   "id": "795f65df",
   "metadata": {},
   "source": [
    "From the above plot, it can be seen that most of the classifiers perform similarly - all quite strong. The XGBoost classifier seems to perform the best since the area under the curve (AUC) is largest. It should also be noted that out of the 6 best performing classifiers, 5 of them were trained on the reduced dataset, reflecting the importance and predictive potential of the features that were selected by the SelectKBest algorithm."
   ]
  },
  {
   "cell_type": "markdown",
   "id": "54a493ea",
   "metadata": {},
   "source": [
    "### AUC Scores"
   ]
  },
  {
   "cell_type": "code",
   "execution_count": 145,
   "id": "b94095aa",
   "metadata": {},
   "outputs": [],
   "source": [
    "full_lr_l1_auc = roc_auc_score(y_test, full_lr_l1[:,1])\n",
    "red_lr_l1_auc = roc_auc_score(red_y_test, red_lr_l1[:,1])\n",
    "red_lr_l2_auc = roc_auc_score(red_y_test, red_lr_l2[:,1])\n",
    "red_lr_en_auc = roc_auc_score(red_y_test, red_lr_en[:,1])\n",
    "red_rf_auc = roc_auc_score(red_y_test, red_rf[:,1])\n",
    "red_xgb_auc = roc_auc_score(red_y_test, red_xgb[:,1])"
   ]
  },
  {
   "cell_type": "code",
   "execution_count": 147,
   "id": "e1e10994",
   "metadata": {},
   "outputs": [
    {
     "name": "stdout",
     "output_type": "stream",
     "text": [
      "AUC Scores:\n",
      "Logistic Regression with L1 Reg (Full): 0.946\n",
      "Logistic Regression with L1 Reg (Reduced): 0.964\n",
      "Logistic Regression with L2 Reg (Reduced): 0.964\n",
      "Logistic Regression with Elastic Net (Reduced): 0.958\n",
      "Random Forest (Reduced): 0.975\n",
      "XGBoost (Reduced): 0.982\n"
     ]
    }
   ],
   "source": [
    "print('AUC Scores:')\n",
    "print('Logistic Regression with L1 Reg (Full):', full_lr_l1_auc.round(3))\n",
    "print('Logistic Regression with L1 Reg (Reduced):', red_lr_l1_auc.round(3))\n",
    "print('Logistic Regression with L2 Reg (Reduced):', red_lr_l2_auc.round(3))\n",
    "print('Logistic Regression with Elastic Net (Reduced):', red_lr_en_auc.round(3))\n",
    "print('Random Forest (Reduced):', red_rf_auc.round(3))\n",
    "print('XGBoost (Reduced):', red_xgb_auc.round(3))"
   ]
  },
  {
   "cell_type": "code",
   "execution_count": null,
   "id": "9bbd2c96",
   "metadata": {},
   "outputs": [],
   "source": []
  }
 ],
 "metadata": {
  "kernelspec": {
   "display_name": "Python 3 (ipykernel)",
   "language": "python",
   "name": "python3"
  },
  "language_info": {
   "codemirror_mode": {
    "name": "ipython",
    "version": 3
   },
   "file_extension": ".py",
   "mimetype": "text/x-python",
   "name": "python",
   "nbconvert_exporter": "python",
   "pygments_lexer": "ipython3",
   "version": "3.9.13"
  }
 },
 "nbformat": 4,
 "nbformat_minor": 5
}
